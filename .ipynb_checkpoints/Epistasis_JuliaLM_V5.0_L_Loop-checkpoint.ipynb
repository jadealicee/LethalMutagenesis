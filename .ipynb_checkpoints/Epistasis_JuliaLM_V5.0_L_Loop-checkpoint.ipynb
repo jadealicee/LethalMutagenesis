{
 "cells": [
  {
   "cell_type": "markdown",
   "id": "4b0cc978-f31b-4caa-946d-5ca3f879e00f",
   "metadata": {},
   "source": [
    "# Modular Virus Simulation"
   ]
  },
  {
   "cell_type": "markdown",
   "id": "bf042065-31a2-467a-b73d-dcfbc428f1d4",
   "metadata": {},
   "source": [
    "## Required libraries"
   ]
  },
  {
   "cell_type": "code",
   "execution_count": 1,
   "id": "379605ed-fdfc-4c5f-a2c1-e06caf2413ab",
   "metadata": {},
   "outputs": [],
   "source": [
    "using Markdown\n",
    "using InteractiveUtils\n",
    "using Random, Distributions, StatsBase, DataFrames, Plots\n",
    "using CSV, Tables"
   ]
  },
  {
   "cell_type": "markdown",
   "id": "c10b7ea9-520e-4018-90f3-af241d482656",
   "metadata": {},
   "source": [
    "## Constants and Parameters"
   ]
  },
  {
   "cell_type": "markdown",
   "id": "a266ede8-4a68-4105-9f8a-7ebbc53bde92",
   "metadata": {},
   "source": [
    "### Fixed Parameters and Constants\n",
    "Let's start with the physical constants that we are not seeking to change:"
   ]
  },
  {
   "cell_type": "code",
   "execution_count": 2,
   "id": "7a6bf42c-2039-470b-9792-d7195a65752b",
   "metadata": {},
   "outputs": [
    {
     "data": {
      "text/plain": [
       "Normal{Float64}(μ=1.0, σ=1.7)"
      ]
     },
     "execution_count": 2,
     "metadata": {},
     "output_type": "execute_result"
    }
   ],
   "source": [
    "# Universal physical constants and fixed data\n",
    "const kt_boltzmann = 0.001987204118 * (273.15 + 37)\n",
    "const ΔΔG = Normal(1.0, 1.7)"
   ]
  },
  {
   "cell_type": "markdown",
   "id": "c3d74791-0bf5-4e77-a401-0b72805e10d9",
   "metadata": {},
   "source": [
    "And then let's set up the gene-level architecture. In this simulation we have assigned genes to four modules. In each module we imagine a different genetic/phenotypic architecture with implications for epistasis.\n",
    "\n",
    "| Module Name | Architecture | Type of Epistasis | Variance Penalty |\n",
    "|-------------|---------------------|-------------------|-------------|\n",
    "| auxiliary | independent additive contributions | arithmetic mean | none |\n",
    "| assembly | stoichiometric balance | geometric mean | moderate |\n",
    "| replication | linear with rate limiting steps | minimum | high |\n",
    "| host interaction | jointly necessary contributions | product | maximal |\n",
    "\n",
    "The overall fitness is calculated as an equal-weighted product of the output from these modules resulting in a variance penalty at organism level and motivated by the idea that all modules are necessary (although some auxiliary genes might be more accurately described as non-essential under optimal conditions).\n",
    "\n",
    "Now let's define these module sizes and characteristics:"
   ]
  },
  {
   "cell_type": "code",
   "execution_count": 3,
   "id": "b7049d0c-a01e-4b61-bae2-c5f719b6093d",
   "metadata": {},
   "outputs": [
    {
     "data": {
      "text/plain": [
       "EpistasisParams"
      ]
     },
     "execution_count": 3,
     "metadata": {},
     "output_type": "execute_result"
    }
   ],
   "source": [
    "Base.@kwdef struct EpistasisParams\n",
    "    # Module configuration\n",
    "    module_sizes::Dict{Symbol, Int} = Dict(\n",
    "        :auxiliary => 3, \n",
    "        :assembly => 3, \n",
    "        :replication => 3, \n",
    "        :host_interaction => 3\n",
    "    )\n",
    "    \n",
    "    # Calculated properties\n",
    "    module_names::Vector{Symbol} = collect(keys(module_sizes))\n",
    "    G::Int = sum(values(module_sizes)) # number_of_genes\n",
    "end\n",
    "\n",
    "# Constructor function (required to calculate G = number of genes)\n",
    "function EpistasisParams(; module_sizes = Dict(:auxiliary => 3, :assembly => 3, :replication => 3, :host_interaction => 3),\n",
    "                         module_names = collect(keys(module_sizes)))\n",
    "    G = sum(values(module_sizes))\n",
    "    return EpistasisParams(module_sizes, module_names, G)\n",
    "end"
   ]
  },
  {
   "cell_type": "code",
   "execution_count": 4,
   "id": "245e33b6-3ace-4839-906c-30bd8bdc99b4",
   "metadata": {},
   "outputs": [
    {
     "data": {
      "text/plain": [
       "EpistasisParams(Dict(:replication => 1, :assembly => 1, :host_interaction => 8, :auxiliary => 1), [:replication, :assembly, :host_interaction, :auxiliary], 11)"
      ]
     },
     "execution_count": 4,
     "metadata": {},
     "output_type": "execute_result"
    }
   ],
   "source": [
    "# Instantiate with equal module sizes (the default)\n",
    "equal_epi_config = EpistasisParams()\n",
    "\n",
    "# Custom values reflecting phiX174 (unequal module sizes)\n",
    "ΦX174_epi_config = EpistasisParams(\n",
    "    module_sizes = Dict(\n",
    "        :auxiliary => 2, # A* (blocks super-inf), K (optimises burst size) - overlaps, non-essential\n",
    "        :assembly => 3, # B (internal scaffolding), D (external scaffolding), F (major capsid) - but H involved in stoichiometry\n",
    "        :replication => 2, # A (rolling circle init), J (ssDNA binding)\n",
    "        :host_interaction => 4 # C (DNA packaging), E (host cell lysis), G (major spike), H (DNA pilot/minor spike)\n",
    "    )\n",
    ")\n",
    "\n",
    "# Custom values to remove epistasis and make everything a product\n",
    "null_epi_config = EpistasisParams(\n",
    "    module_sizes = Dict(\n",
    "        :auxiliary => 1, \n",
    "        :assembly => 1, \n",
    "        :replication => 1, \n",
    "        :host_interaction => 8\n",
    "    )\n",
    ")"
   ]
  },
  {
   "cell_type": "markdown",
   "id": "d6f832d7-f982-418d-8d51-0c7fc8c9842e",
   "metadata": {},
   "source": [
    "### Variable Parameters\n",
    "And now for the parameters that we can change in the simulation:"
   ]
  },
  {
   "cell_type": "code",
   "execution_count": 5,
   "id": "aaabbb10",
   "metadata": {
    "scrolled": true
   },
   "outputs": [
    {
     "data": {
      "text/plain": [
       "SimulationParams"
      ]
     },
     "execution_count": 5,
     "metadata": {},
     "output_type": "execute_result"
    }
   ],
   "source": [
    "Base.@kwdef struct SimulationParams\n",
    "    # Control parameters\n",
    "    sim_length::Int = 500\n",
    "    F_init::Float64 = -5.0\n",
    "    # Sweep parameters\n",
    "    U_default::Poisson = Poisson(5.0)\n",
    "    L_default::Float64 = 0.1\n",
    "    N_default::Int = 5000\n",
    "    K_default::Int = 10000\n",
    "    R_default::Int = 9\n",
    "end"
   ]
  },
  {
   "cell_type": "code",
   "execution_count": 6,
   "id": "4e70637f-9991-407b-a81c-4fe0291027fb",
   "metadata": {},
   "outputs": [
    {
     "data": {
      "text/plain": [
       "SimulationParams(500, -5.0, Poisson{Float64}(λ=5.0), 0.1, 5000, 10000, 9)"
      ]
     },
     "execution_count": 6,
     "metadata": {},
     "output_type": "execute_result"
    }
   ],
   "source": [
    "sim_config = SimulationParams()  # All defaults\n",
    "#sim_config = SimulationParams(L_default = 0.05, N_default = 2000)  # Custom values"
   ]
  },
  {
   "cell_type": "markdown",
   "id": "5c7902e1-48d6-40bd-9d8c-2891aaee5b39",
   "metadata": {},
   "source": [
    "## Defining the Virus"
   ]
  },
  {
   "cell_type": "markdown",
   "id": "a447ff94-9cc1-4963-bf47-d34673d46ad5",
   "metadata": {},
   "source": [
    "We represent the virus as a Julia Struct. It contains 2 dictionaries (where the keys are module names and the values are lists, one for each module). These dictionaries are for mutation counts (μ_counts) and for ΔG values (ΔG_values). We also see an atomic entry for fitness."
   ]
  },
  {
   "cell_type": "code",
   "execution_count": 7,
   "id": "8b895a66-6048-4a9a-bbef-badcb87ff657",
   "metadata": {},
   "outputs": [],
   "source": [
    "mutable struct ModularVirus\n",
    "    μ_counts::Dict{Symbol, Vector{Int64}}\n",
    "    ΔG_values::Dict{Symbol, Vector{Float64}}\n",
    "    fitness::Float64\n",
    "end"
   ]
  },
  {
   "cell_type": "markdown",
   "id": "05a95062-2650-44a4-9d2b-571540467eaf",
   "metadata": {},
   "source": [
    "We have this convenience function for initializing a new modular virus and we preload our dictionaries with zero entries for mutation numbers and the initial value for free energy, while setting fitness to (nearly) 1:"
   ]
  },
  {
   "cell_type": "code",
   "execution_count": 8,
   "id": "d7b8747f-6d35-4fb0-82ad-d13b906bc041",
   "metadata": {},
   "outputs": [
    {
     "data": {
      "text/plain": [
       "ModularVirus"
      ]
     },
     "execution_count": 8,
     "metadata": {},
     "output_type": "execute_result"
    }
   ],
   "source": [
    "# constructor for clean initialization\n",
    "function ModularVirus(sim_config::SimulationParams, epi_config::EpistasisParams, start_fitness::Float64)\n",
    "    μ_counts = Dict(name => zeros(Int64, epi_config.module_sizes[name]) for name in epi_config.module_names)\n",
    "    ΔG_values = Dict(name => fill(sim_config.F_init, epi_config.module_sizes[name]) for name in epi_config.module_names)\n",
    "    return ModularVirus(μ_counts, ΔG_values, start_fitness)\n",
    "end"
   ]
  },
  {
   "cell_type": "markdown",
   "id": "1d1fb2b7-93b4-40a1-87ac-fc78b2edefae",
   "metadata": {},
   "source": [
    "### Testing\n",
    "Create a test virus:"
   ]
  },
  {
   "cell_type": "code",
   "execution_count": 9,
   "id": "4444e625-03a1-4e33-9ca0-cceaac772a97",
   "metadata": {},
   "outputs": [
    {
     "data": {
      "text/plain": [
       "ModularVirus(Dict(:replication => [0, 0, 0], :assembly => [0, 0, 0], :host_interaction => [0, 0, 0], :auxiliary => [0, 0, 0]), Dict(:replication => [-5.0, -5.0, -5.0], :assembly => [-5.0, -5.0, -5.0], :host_interaction => [-5.0, -5.0, -5.0], :auxiliary => [-5.0, -5.0, -5.0]), 1.0)"
      ]
     },
     "execution_count": 9,
     "metadata": {},
     "output_type": "execute_result"
    }
   ],
   "source": [
    "Quentin = ModularVirus(sim_config, equal_epi_config, 1.0)"
   ]
  },
  {
   "cell_type": "markdown",
   "id": "06108bfb-9a85-4451-99f5-6974d6a9f497",
   "metadata": {},
   "source": [
    "Force add a mutation:"
   ]
  },
  {
   "cell_type": "code",
   "execution_count": 10,
   "id": "9827d394-7f38-4e2a-b236-b3b9d51e7116",
   "metadata": {},
   "outputs": [
    {
     "data": {
      "text/plain": [
       "ModularVirus(Dict(:replication => [1, 0, 0], :assembly => [1, 0, 0], :host_interaction => [1, 0, 0], :auxiliary => [1, 0, 0]), Dict(:replication => [-0.4, -5.0, -5.0], :assembly => [-0.4, -5.0, -5.0], :host_interaction => [-0.4, -5.0, -5.0], :auxiliary => [-0.4, -5.0, -5.0]), 1.0)"
      ]
     },
     "execution_count": 10,
     "metadata": {},
     "output_type": "execute_result"
    }
   ],
   "source": [
    "for name in equal_epi_config.module_names\n",
    "    Quentin.μ_counts[name][1] = 1\n",
    "    Quentin.ΔG_values[name][1] = -0.4\n",
    "end\n",
    "Quentin"
   ]
  },
  {
   "cell_type": "markdown",
   "id": "27e74272-a8da-4c94-8b13-47ad64f896c8",
   "metadata": {},
   "source": [
    "## Epistasis and Fitness Calculations"
   ]
  },
  {
   "cell_type": "markdown",
   "id": "a62de751-c2a0-4c49-994f-d36b346d1d78",
   "metadata": {},
   "source": [
    "Here we have functions for instantiating epistasis in different ways for each module:"
   ]
  },
  {
   "cell_type": "code",
   "execution_count": 11,
   "id": "0027ff21-3184-42e4-a244-2bf0088ae76e",
   "metadata": {},
   "outputs": [
    {
     "data": {
      "text/plain": [
       "host_module_epistasis (generic function with 1 method)"
      ]
     },
     "execution_count": 11,
     "metadata": {},
     "output_type": "execute_result"
    }
   ],
   "source": [
    "function auxiliary_epistasis(auxiliary_ΔGs::Vector{Float64})\n",
    "    # Additive contributions\n",
    "    stabilities = [1 / (1 + ℯ^(ΔG/kt_boltzmann)) for ΔG in auxiliary_ΔGs]\n",
    "    # Arithmetic mean benefits from positives\n",
    "    return mean(stabilities)\n",
    "end\n",
    "\n",
    "function assembly_epistasis(assembly_ΔGs::Vector{Float64})\n",
    "    # Stoichiometric balance: variance in stabilities hurts fitness\n",
    "    stabilities = [1 / (1 + ℯ^(ΔG/kt_boltzmann)) for ΔG in assembly_ΔGs]\n",
    "    # Geometric mean penalizes imbalance\n",
    "    return prod(stabilities)^(1/length(stabilities))\n",
    "end\n",
    "\n",
    "function replication_epistasis(replication_ΔGs::Vector{Float64})\n",
    "    # Rate-limiting: weakest link dominates\n",
    "    stabilities = [1 / (1 + ℯ^(ΔG/kt_boltzmann)) for ΔG in replication_ΔGs]\n",
    "    return minimum(stabilities)\n",
    "end\n",
    "\n",
    "function host_module_epistasis(host_ΔGs::Vector{Float64})\n",
    "    # Independent effects but negatives propagate\n",
    "    stabilities = [1 / (1 + ℯ^(ΔG/kt_boltzmann)) for ΔG in host_ΔGs]\n",
    "    return prod(stabilities)\n",
    "end"
   ]
  },
  {
   "cell_type": "markdown",
   "id": "27089c48-c611-4d94-bbb7-5495ccbc1dd0",
   "metadata": {},
   "source": [
    "Now we can generate a struct-modifying update fitness function:"
   ]
  },
  {
   "cell_type": "code",
   "execution_count": 12,
   "id": "e29c767d-90ea-445e-8c41-f4e18f78a545",
   "metadata": {},
   "outputs": [
    {
     "data": {
      "text/plain": [
       "update_fitness! (generic function with 1 method)"
      ]
     },
     "execution_count": 12,
     "metadata": {},
     "output_type": "execute_result"
    }
   ],
   "source": [
    "function update_fitness!(virus::ModularVirus)\n",
    "    auxiliary_contrib = auxiliary_epistasis(virus.ΔG_values[:auxiliary])\n",
    "    assembly_contrib = assembly_epistasis(virus.ΔG_values[:assembly])\n",
    "    replication_contrib = replication_epistasis(virus.ΔG_values[:replication])\n",
    "    host_contrib = host_module_epistasis(virus.ΔG_values[:host_interaction])\n",
    "    \n",
    "    virus.fitness = auxiliary_contrib * assembly_contrib * replication_contrib * host_contrib\n",
    "end"
   ]
  },
  {
   "cell_type": "markdown",
   "id": "ed7ed165-7c86-4139-8d7c-f201332d631b",
   "metadata": {},
   "source": [
    "### Testing\n",
    "Try it and please do this carefully if zeroing out any module - the effects could be exotic:"
   ]
  },
  {
   "cell_type": "code",
   "execution_count": 13,
   "id": "8476ffa0-a528-45be-869e-955d54e9d040",
   "metadata": {},
   "outputs": [
    {
     "name": "stdout",
     "output_type": "stream",
     "text": [
      "Auxiliary: 0.8853953603063478\n",
      "Assembly: 0.8690692667366479\n",
      "Replication: 0.6567854267448675\n",
      "Host Interaction: 0.6563918441227488\n"
     ]
    }
   ],
   "source": [
    "println(\"Auxiliary: \", auxiliary_epistasis(Quentin.ΔG_values[:auxiliary]))\n",
    "println(\"Assembly: \", assembly_epistasis(Quentin.ΔG_values[:assembly]))\n",
    "println(\"Replication: \", replication_epistasis(Quentin.ΔG_values[:replication]))\n",
    "println(\"Host Interaction: \", host_module_epistasis(Quentin.ΔG_values[:host_interaction]))"
   ]
  },
  {
   "cell_type": "code",
   "execution_count": 14,
   "id": "7139c132-a1f5-4d65-997f-1744445a6816",
   "metadata": {},
   "outputs": [
    {
     "data": {
      "text/plain": [
       "0.33172508788624777"
      ]
     },
     "execution_count": 14,
     "metadata": {},
     "output_type": "execute_result"
    }
   ],
   "source": [
    "update_fitness!(Quentin)"
   ]
  },
  {
   "cell_type": "code",
   "execution_count": 15,
   "id": "3981110a-52b4-497c-9f51-fbe8feef2311",
   "metadata": {},
   "outputs": [
    {
     "data": {
      "text/plain": [
       "0.33172508788624777"
      ]
     },
     "execution_count": 15,
     "metadata": {},
     "output_type": "execute_result"
    }
   ],
   "source": [
    "Quentin.fitness"
   ]
  },
  {
   "cell_type": "markdown",
   "id": "103f274e-cbe2-4c04-9300-c3755eec69dc",
   "metadata": {},
   "source": [
    "## Making New Mutations"
   ]
  },
  {
   "cell_type": "markdown",
   "id": "640c1174-f8d8-4f25-999c-af26fd8d5f25",
   "metadata": {},
   "source": [
    "Enumerate and apply new mutations to a virus:"
   ]
  },
  {
   "cell_type": "code",
   "execution_count": 16,
   "id": "fe2e9b17-e4dd-4d07-aa26-dc02afa7e9e0",
   "metadata": {},
   "outputs": [
    {
     "data": {
      "text/plain": [
       "mutate! (generic function with 1 method)"
      ]
     },
     "execution_count": 16,
     "metadata": {},
     "output_type": "execute_result"
    }
   ],
   "source": [
    "function mutate!(virus::ModularVirus, sim_config::SimulationParams, epi_config::EpistasisParams) \n",
    "    number_of_mutations = only(rand(sim_config.U_default, 1))\n",
    "    ΔΔG_values = rand(ΔΔG, number_of_mutations)  # note that ΔΔG is a global\n",
    "    \n",
    "    # We choose modules proportionally to their size **and ordered by** module_names vector\n",
    "    # care must be taken as keys(module_sizes) != module_names\n",
    "    module_probs = Weights([epi_config.module_sizes[name] for name in epi_config.module_names] ./ epi_config.G)\n",
    "    \n",
    "    for i in 1:number_of_mutations\n",
    "        # Select module based on proportional targeting\n",
    "        module_choice = sample(epi_config.module_names, module_probs)\n",
    "        \n",
    "        # Select gene within module\n",
    "        module_size = epi_config.module_sizes[module_choice]\n",
    "        gene_index = rand(1:module_size)\n",
    "        \n",
    "        # Apply mutation to appropriate dictionary [and module therein][and gene]\n",
    "        virus.μ_counts[module_choice][gene_index] += 1\n",
    "        virus.ΔG_values[module_choice][gene_index] += ΔΔG_values[i]\n",
    "        \n",
    "        # Lethal mutation check\n",
    "        if rand() < sim_config.L_default\n",
    "            virus.fitness = 0\n",
    "            return virus.fitness\n",
    "        end\n",
    "    end\n",
    "    \n",
    "    # Update fitness if virus is still viable\n",
    "    (virus.fitness > 0) && (update_fitness!(virus))\n",
    "    \n",
    "    return virus.fitness\n",
    "end"
   ]
  },
  {
   "cell_type": "markdown",
   "id": "1ea07f67-9621-4389-b2d0-c056cde860e3",
   "metadata": {},
   "source": [
    "## Reproduction"
   ]
  },
  {
   "cell_type": "markdown",
   "id": "bcdb43a5-0b4c-4b2a-97f6-529e16c3634a",
   "metadata": {},
   "source": [
    "Here is a reproduction function:"
   ]
  },
  {
   "cell_type": "code",
   "execution_count": 17,
   "id": "a9020672-105f-4bde-ad5f-f0819820fecc",
   "metadata": {},
   "outputs": [
    {
     "data": {
      "text/plain": [
       "reproduce (generic function with 1 method)"
      ]
     },
     "execution_count": 17,
     "metadata": {},
     "output_type": "execute_result"
    }
   ],
   "source": [
    "# Creates new offspring virus by copying parent + its mutations\n",
    "function reproduce(parent::ModularVirus, sim_config::SimulationParams, epi_config::EpistasisParams)\n",
    "    sprog = deepcopy(parent)\n",
    "    mutate!(sprog, sim_config, epi_config)\n",
    "    return sprog\n",
    "end"
   ]
  },
  {
   "cell_type": "markdown",
   "id": "8cf2cb90-280b-4181-8852-d113e0d26c54",
   "metadata": {},
   "source": [
    "## Creating a Population"
   ]
  },
  {
   "cell_type": "markdown",
   "id": "fdcd583a-27b6-4708-a239-74054621db15",
   "metadata": {},
   "source": [
    "Here is a convenience function to make a new population of viruses:"
   ]
  },
  {
   "cell_type": "code",
   "execution_count": 18,
   "id": "06ea489e-da59-4e8e-b836-ba2bb05b74ad",
   "metadata": {},
   "outputs": [
    {
     "data": {
      "text/plain": [
       "initialize_population (generic function with 1 method)"
      ]
     },
     "execution_count": 18,
     "metadata": {},
     "output_type": "execute_result"
    }
   ],
   "source": [
    "# Creates initial virus population\n",
    "function initialize_population(sim_config::SimulationParams, epi_config::EpistasisParams)\n",
    "    start_fitness = (1 / (1 + ℯ^(sim_config.F_init/kt_boltzmann)))^epi_config.G\n",
    "    return [ModularVirus(sim_config, epi_config, start_fitness) for _ in 1:sim_config.N_default]\n",
    "end"
   ]
  },
  {
   "cell_type": "markdown",
   "id": "e93f3cab-2468-4608-9bab-c79e84643f2f",
   "metadata": {},
   "source": [
    "## Helper Functions"
   ]
  },
  {
   "cell_type": "markdown",
   "id": "3b504428-a032-4ae9-ba2b-c909ed4b3d23",
   "metadata": {},
   "source": [
    "Here are some key helper functions that facilitate selection (get weights) or the selection of an integer number of offspring (probabilistic round):"
   ]
  },
  {
   "cell_type": "code",
   "execution_count": 19,
   "id": "e8f6c9c8-5547-4dbf-afed-aaf512a3c8eb",
   "metadata": {},
   "outputs": [
    {
     "data": {
      "text/plain": [
       "get_module_stats (generic function with 1 method)"
      ]
     },
     "execution_count": 19,
     "metadata": {},
     "output_type": "execute_result"
    }
   ],
   "source": [
    "# Used to implement fitness-proportional selection\n",
    "function get_weights(populace)\n",
    "    fitness_values = [v.fitness for v in populace]\n",
    "    total = sum(fitness_values)\n",
    "    fitness_values ./= total  # in-place division to avoid new array\n",
    "    return Weights(fitness_values)\n",
    "end\n",
    "\n",
    "# Round a floating-point number to an integer\n",
    "function probabilistic_round(number)\n",
    "    base = floor(Int, number)\n",
    "    return base + (rand() < number - base)\n",
    "    # bracketed boolean expression evaluates to 0 or 1\n",
    "end\n",
    "\n",
    "# Helper function to get all ΔG values from a ModularVirus\n",
    "function get_all_ΔG(virus::ModularVirus, epi_config::EpistasisParams)\n",
    "    all_ΔG = Float64[]\n",
    "    for module_name in epi_config.module_names\n",
    "        append!(all_ΔG, virus.ΔG_values[module_name])\n",
    "    end\n",
    "    return all_ΔG\n",
    "end\n",
    "\n",
    "# Helper function to get all mutation counts from a ModularVirus  \n",
    "function get_all_mutations(virus::ModularVirus, epi_config::EpistasisParams)\n",
    "    return sum(sum(virus.μ_counts[module_name]) for module_name in epi_config.module_names)\n",
    "end\n",
    "\n",
    "# Helper function to get module-specific mean statistics\n",
    "function get_module_stats(populace, module_name::Symbol)\n",
    "    mut_counts = [sum(v.μ_counts[module_name]) for v in populace]\n",
    "    ΔG_values = [mean(v.ΔG_values[module_name]) for v in populace]\n",
    "    return mean(mut_counts), mean(ΔG_values)\n",
    "end"
   ]
  },
  {
   "cell_type": "markdown",
   "id": "266e7baa-d988-43ba-b2fa-babfd5aa421b",
   "metadata": {},
   "source": [
    "## Report and Plotting Functions"
   ]
  },
  {
   "cell_type": "markdown",
   "id": "27ef0390-8e79-4d2b-9269-20a196b86215",
   "metadata": {},
   "source": [
    "### Report Initialization and Filling Functions"
   ]
  },
  {
   "cell_type": "markdown",
   "id": "9a41b8eb-934b-46ff-9016-867fe5f7f6fa",
   "metadata": {},
   "source": [
    "Please note that the module names are hard-coded into these functions. Should the user choose an `epi_config` with different module names this function would need to be updated (or abstracted)."
   ]
  },
  {
   "cell_type": "code",
   "execution_count": 20,
   "id": "b6e89752-1417-4589-9a9b-82e32c91de14",
   "metadata": {},
   "outputs": [
    {
     "data": {
      "text/plain": [
       "report_update! (generic function with 1 method)"
      ]
     },
     "execution_count": 20,
     "metadata": {},
     "output_type": "execute_result"
    }
   ],
   "source": [
    "# Creates empty DataFrame with module-specific columns\n",
    "function initialize_report()\n",
    "    report = DataFrame(\n",
    "        # Main metrics\n",
    "        generation = Int[],\n",
    "        psiz = Int[], \n",
    "        q1fit = Float64[], \n",
    "        meanfit = Float64[],\n",
    "        q2fit = Float64[], \n",
    "        maxfit = Float64[], \n",
    "        minfree = Float64[],\n",
    "        meanfree = Float64[], \n",
    "        maxfree = Float64[], \n",
    "        minmut = Float64[],\n",
    "        meanmut = Float64[], \n",
    "        maxmut = Float64[],\n",
    "        # Module-specific mutation counts\n",
    "        auxiliary_meanmut = Float64[],\n",
    "        assembly_meanmut = Float64[],\n",
    "        replication_meanmut = Float64[],\n",
    "        host_meanmut = Float64[],\n",
    "        # Module-specific free energies  \n",
    "        auxiliary_meanfree = Float64[],\n",
    "        assembly_meanfree = Float64[],\n",
    "        replication_meanfree = Float64[],\n",
    "        host_meanfree = Float64[]\n",
    "    )\n",
    "    return report\n",
    "end\n",
    "\n",
    "# Updates DataFrame with both original and module-specific metrics\n",
    "function report_update!(populace, report, epi_config::EpistasisParams, generation::Int)\n",
    "    # Original metrics\n",
    "    fitness_values = [v.fitness for v in populace]\n",
    "    all_ΔG_per_virus = [get_all_ΔG(v, epi_config) for v in populace]\n",
    "    all_mutations_per_virus = [get_all_mutations(v, epi_config) for v in populace]\n",
    "    \n",
    "    # Module-specific metrics\n",
    "    aux_mut, aux_free = get_module_stats(populace, :auxiliary)\n",
    "    asm_mut, asm_free = get_module_stats(populace, :assembly)\n",
    "    rep_mut, rep_free = get_module_stats(populace, :replication)\n",
    "    host_mut, host_free = get_module_stats(populace, :host_interaction)\n",
    "    \n",
    "    # Precompute ΔG statistics for efficiency\n",
    "    ΔG_mins = [minimum(ΔG_list) for ΔG_list in all_ΔG_per_virus]\n",
    "    ΔG_means = [mean(ΔG_list) for ΔG_list in all_ΔG_per_virus]\n",
    "    ΔG_maxs = [maximum(ΔG_list) for ΔG_list in all_ΔG_per_virus]\n",
    "    \n",
    "    push!(report, (\n",
    "        generation = generation,\n",
    "        psiz = length(populace),\n",
    "        q1fit = quantile(fitness_values, 0.25),\n",
    "        meanfit = mean(fitness_values),\n",
    "        q2fit = median(fitness_values),\n",
    "        maxfit = maximum(fitness_values),\n",
    "        minfree = mean(ΔG_mins),\n",
    "        meanfree = mean(ΔG_means),\n",
    "        maxfree = mean(ΔG_maxs),\n",
    "        minmut = minimum(all_mutations_per_virus),\n",
    "        meanmut = mean(all_mutations_per_virus),\n",
    "        maxmut = maximum(all_mutations_per_virus),\n",
    "        auxiliary_meanmut = aux_mut,\n",
    "        assembly_meanmut = asm_mut,\n",
    "        replication_meanmut = rep_mut,\n",
    "        host_meanmut = host_mut,\n",
    "        auxiliary_meanfree = aux_free,\n",
    "        assembly_meanfree = asm_free,\n",
    "        replication_meanfree = rep_free,\n",
    "        host_meanfree = host_free\n",
    "    ))\n",
    "end"
   ]
  },
  {
   "cell_type": "markdown",
   "id": "936235a5-db81-4c2b-bf65-5710539d46af",
   "metadata": {},
   "source": [
    "### Plotting Function"
   ]
  },
  {
   "cell_type": "code",
   "execution_count": 21,
   "id": "cff48a83-9e49-45d3-a9d3-29c27be01dac",
   "metadata": {},
   "outputs": [
    {
     "data": {
      "text/plain": [
       "plot_simulation (generic function with 1 method)"
      ]
     },
     "execution_count": 21,
     "metadata": {},
     "output_type": "execute_result"
    }
   ],
   "source": [
    "#creates plots including module-specific panels\n",
    "function plot_simulation(report)\n",
    "    abscissa = 1:size(report, 1)\n",
    "    \n",
    "    p1 = plot(abscissa, report.psiz, \n",
    "        ylims = (0, maximum(report.psiz)),\n",
    "        label = \"pop size\", linewidth = 3, title = \"A) Population Size\")\n",
    "        \n",
    "    p2 = plot(abscissa, [report.q1fit report.meanfit report.q2fit report.maxfit],\n",
    "        label = [\"Q1 fitness\" \"mean fitness\" \"median fitness\" \"max fitness\"], \n",
    "        linewidth = 3, title = \"B) Fitness Distribution\")\n",
    "        \n",
    "    p3 = plot(abscissa, [report.minfree report.meanfree report.maxfree],\n",
    "        label = [\"min ΔG\" \"mean ΔG\" \"max ΔG\"],\n",
    "        linewidth = 3, title = \"C) Free Energy Distribution\")\n",
    "        \n",
    "    p4 = plot(abscissa, [report.minmut report.meanmut report.maxmut],\n",
    "        label = [\"min mutations\" \"mean mutations\" \"max mutations\"],\n",
    "        linewidth = 3, title = \"D) Total Mutations\")\n",
    "        \n",
    "    p5 = plot(abscissa, [report.replication_meanmut report.assembly_meanmut report.host_meanmut],\n",
    "        label = [\"replication\" \"assembly\" \"host interaction\"],\n",
    "        linewidth = 3, title = \"E) Mutations by Module\")\n",
    "        \n",
    "    p6 = plot(abscissa, [report.replication_meanfree report.assembly_meanfree report.host_meanfree],\n",
    "        label = [\"replication\" \"assembly\" \"host interaction\"],\n",
    "        linewidth = 3, title = \"F) Mean ΔG by Module\")\n",
    "    \n",
    "    plot(p1, p2, p3, p4, p5, p6, \n",
    "        titleloc = :left, \n",
    "        titlefont = font(12), \n",
    "        layout = (3, 2), \n",
    "        size = (1000, 1000))\n",
    "end"
   ]
  },
  {
   "cell_type": "markdown",
   "id": "af246ce9-6c22-49a6-9889-9243a0194897",
   "metadata": {},
   "source": [
    "## Simulation Proper"
   ]
  },
  {
   "cell_type": "markdown",
   "id": "5165829d-111f-4470-af8f-3b600af47a13",
   "metadata": {},
   "source": [
    "Let's start with a function to replicate the next generation:"
   ]
  },
  {
   "cell_type": "code",
   "execution_count": 22,
   "id": "f216c502-d165-47af-8c98-98b65a15e6a9",
   "metadata": {},
   "outputs": [
    {
     "data": {
      "text/plain": [
       "synchronized_generation (generic function with 1 method)"
      ]
     },
     "execution_count": 22,
     "metadata": {},
     "output_type": "execute_result"
    }
   ],
   "source": [
    "# Simulates one generation of the population. fitness pushed to next generation\n",
    "function synchronized_generation(populace, sim_config::SimulationParams, epi_config::EpistasisParams) \n",
    "    next_generation = ModularVirus[]\n",
    "    # equivalent to Array{ModularVirus,1}() and eliminates type checking later\n",
    "    \n",
    "    for parent in populace\n",
    "        offspring_count = probabilistic_round(sim_config.R_default * parent.fitness)\n",
    "        for r in 1:offspring_count\n",
    "            child = reproduce(parent, sim_config, epi_config)\n",
    "            # Only add viable offspring (short-circuit evaluation)\n",
    "            (child.fitness > 0) && push!(next_generation, child)\n",
    "        end\n",
    "    end\n",
    "    \n",
    "    return next_generation\n",
    "end"
   ]
  },
  {
   "cell_type": "markdown",
   "id": "8187ce1a-8e8f-42db-8280-6ee76118ec07",
   "metadata": {},
   "source": [
    "Now let's generate a function that yields a complete simulation:"
   ]
  },
  {
   "cell_type": "code",
   "execution_count": 23,
   "id": "b0139801-998a-429f-9c10-5796a369ab4c",
   "metadata": {},
   "outputs": [
    {
     "data": {
      "text/plain": [
       "synchronized_simulation (generic function with 1 method)"
      ]
     },
     "execution_count": 23,
     "metadata": {},
     "output_type": "execute_result"
    }
   ],
   "source": [
    "# Runs main sim and collects data into DataFrame\n",
    "function synchronized_simulation(sim_config::SimulationParams, epi_config::EpistasisParams; \n",
    "                                report_frequency = 20)\n",
    "    # Initialize population and reporting\n",
    "    population = initialize_population(sim_config, epi_config)\n",
    "    report = initialize_report()\n",
    "    \n",
    "    generation = 0\n",
    "    max_generations = sim_config.sim_length\n",
    "    \n",
    "    while generation < max_generations\n",
    "        generation += 1\n",
    "        \n",
    "        # Progress reporting\n",
    "        if generation % report_frequency == 0\n",
    "            println(\"Generation: $generation, Population size: $(length(population))\")\n",
    "        end\n",
    "        \n",
    "        # Collect data before selection/reproduction\n",
    "        report_update!(population, report, epi_config, generation)\n",
    "        \n",
    "        # Generate next generation\n",
    "        population = synchronized_generation(population, sim_config, epi_config)\n",
    "        population_size = length(population)\n",
    "        \n",
    "        # Apply carrying capacity constraint\n",
    "        if population_size > sim_config.K_default\n",
    "            population = sample(population, sim_config.K_default, replace = false)\n",
    "        elseif population_size == 0\n",
    "            println(\"Population extinct at generation $generation\")\n",
    "            break\n",
    "        end\n",
    "    end\n",
    "    \n",
    "    # Final report update if simulation completed\n",
    "    if length(population) > 0\n",
    "        report_update!(population, report, epi_config, generation)\n",
    "    end\n",
    "    \n",
    "    return report, population\n",
    "end"
   ]
  },
  {
   "cell_type": "code",
   "execution_count": 24,
   "id": "91832e57-1173-4cc3-b77f-f32fa06bd130",
   "metadata": {},
   "outputs": [
    {
     "data": {
      "text/plain": [
       "run_simulation (generic function with 1 method)"
      ]
     },
     "execution_count": 24,
     "metadata": {},
     "output_type": "execute_result"
    }
   ],
   "source": [
    "# Convenience function with default parameters\n",
    "function run_simulation(; sim_config = SimulationParams(), epi_config = EpistasisParams(),\n",
    "                        report_frequency = 20)\n",
    "    return synchronized_simulation(sim_config, epi_config; report_frequency = report_frequency)\n",
    "end"
   ]
  },
  {
   "cell_type": "markdown",
   "id": "dd96a645-9b3b-47a0-9491-382e81b31b5b",
   "metadata": {},
   "source": [
    "# Run the Simulation"
   ]
  },
  {
   "cell_type": "markdown",
   "id": "fbce7a39-7b17-40c7-8faf-bcd6e60f83c0",
   "metadata": {},
   "source": [
    "Please uncomment if you wish to run (commented to focus on parameter sweep below):"
   ]
  },
  {
   "cell_type": "code",
   "execution_count": 25,
   "id": "a2f9e40a-3bc1-4cf4-9c14-f8f5d775e90d",
   "metadata": {},
   "outputs": [],
   "source": [
    "#=\n",
    "# All defaults\n",
    "report, pop = run_simulation()\n",
    "\n",
    "# Plot the results\n",
    "plot_simulation(report)\n",
    "=#"
   ]
  },
  {
   "cell_type": "code",
   "execution_count": 26,
   "id": "6c96a81a-919e-464e-8f2e-7ae14f82729b",
   "metadata": {},
   "outputs": [],
   "source": [
    "#=\n",
    "# Custom configs\n",
    "custom_sim = SimulationParams(L_default = 0.27, sim_length = 400)\n",
    "report, pop = run_simulation(sim_config = custom_sim, epi_config = equal_epi_config)\n",
    "\n",
    "# Plot the results\n",
    "plot_simulation(report)\n",
    "=#"
   ]
  },
  {
   "cell_type": "code",
   "execution_count": 27,
   "id": "a8fe6ba6-0428-46d2-855f-91ed528201f6",
   "metadata": {},
   "outputs": [],
   "source": [
    "#report"
   ]
  },
  {
   "cell_type": "code",
   "execution_count": 28,
   "id": "abf08513-c95a-426d-8e55-217220bcf0a6",
   "metadata": {},
   "outputs": [],
   "source": [
    "#=\n",
    "# Another example with custom parameters\n",
    "custom_sim = SimulationParams(L_default = 0.02, R_default = 10, N_default = 2000, K_default = 4000, sim_length = 200)\n",
    "report, pop = run_simulation(sim_config = custom_sim, epi_config = ΦX174_epi_config, report_frequency = 10)\n",
    "\n",
    "# Plot the results\n",
    "plot_simulation(report)\n",
    "=#"
   ]
  },
  {
   "cell_type": "markdown",
   "id": "6310d4b5-d780-4313-8630-e444b1b5eb26",
   "metadata": {},
   "source": [
    "# Parameter Sweeps"
   ]
  },
  {
   "cell_type": "markdown",
   "id": "8295a45f-3b68-4bdb-aa6f-d286505788ce",
   "metadata": {},
   "source": [
    "This is working parameter sweep code:"
   ]
  },
  {
   "cell_type": "code",
   "execution_count": 29,
   "id": "d6fdbedd-ffa5-4812-8a24-6c624b6c31b9",
   "metadata": {},
   "outputs": [
    {
     "data": {
      "text/plain": [
       "run_parameter_sweep (generic function with 1 method)"
      ]
     },
     "execution_count": 29,
     "metadata": {},
     "output_type": "execute_result"
    }
   ],
   "source": [
    "function run_parameter_sweep(base_dir::String, epi_config::EpistasisParams; \n",
    "                           num_reps = 5,\n",
    "                           R_range = 0:2:10,\n",
    "                           U_range = 0:0.5:5.0, \n",
    "                           L_range = 0.0:0.2:1.0)\n",
    "    \n",
    "    mkpath(base_dir)\n",
    "    \n",
    "    # Create master results DataFrame for aggregation\n",
    "    all_results = DataFrame()\n",
    "    \n",
    "    for R in R_range\n",
    "        for U in U_range\n",
    "            for L in L_range\n",
    "                \n",
    "                # Create parameter-specific directory\n",
    "                param_dir = joinpath(base_dir, \"R$(R)_U$(U)_L$(L)\")\n",
    "                mkpath(param_dir)\n",
    "                \n",
    "                println(\"Running parameter combination: R=$R, U=$U, L=$L\")\n",
    "                \n",
    "                for rep in 1:num_reps\n",
    "                    # Generate unique seed for this replicate\n",
    "                    seed = rand(Int)\n",
    "                    \n",
    "                    # Create simulation config with current parameters\n",
    "                    sweep_sim_config = SimulationParams(\n",
    "                        R_default = R,\n",
    "                        U_default = Poisson(U),\n",
    "                        L_default = L\n",
    "                    )\n",
    "                    \n",
    "                    # Run simulation\n",
    "                    Random.seed!(seed)\n",
    "                    report, final_pop = synchronized_simulation(sweep_sim_config, epi_config; report_frequency = 999999)\n",
    "\n",
    "                    # Add metadata to report\n",
    "                    # Insert multiple columns at the beginning\n",
    "                    insertcols!(report, 1, \n",
    "                        :R => R,\n",
    "                        :U => U, \n",
    "                        :L => L,\n",
    "                        :N => sweep_sim_config.N_default,\n",
    "                        :K => sweep_sim_config.K_default,\n",
    "                        :replicate => rep,\n",
    "                        :seed => seed\n",
    "                    )\n",
    "                    \n",
    "                    # Save individual replicate files\n",
    "                    csv_filename = joinpath(param_dir, \"rep$(rep)_seed$(seed).csv\")\n",
    "                    png_filename = joinpath(param_dir, \"rep$(rep)_seed$(seed).png\")\n",
    "                    \n",
    "                    CSV.write(csv_filename, report)\n",
    "                    \n",
    "                    # Save plot\n",
    "                    p = plot_simulation(report)\n",
    "                    savefig(p, png_filename)\n",
    "                    \n",
    "                    # Add to master dataset\n",
    "                    append!(all_results, report)\n",
    "                    \n",
    "                    println(\"  Completed replicate $rep (seed: $seed)\")\n",
    "                end\n",
    "            end\n",
    "        end\n",
    "    end\n",
    "    \n",
    "    # Save master results\n",
    "    master_csv = joinpath(base_dir, \"master_results.csv\")\n",
    "    CSV.write(master_csv, all_results)\n",
    "    \n",
    "    println(\"Parameter sweep complete. Master results saved to: $master_csv\")\n",
    "    return all_results\n",
    "end"
   ]
  },
  {
   "cell_type": "markdown",
   "id": "e8b3911e-3863-479b-bc92-bb376681bf2e",
   "metadata": {},
   "source": [
    "Here's the code to run with a full, serially executed parameter sweep but not the code is commented out for now because I'd like to create a parallel execution option for efficiency:"
   ]
  },
  {
   "cell_type": "code",
   "execution_count": 30,
   "id": "e5d022e6-519a-43c4-95b3-ac6014f895b2",
   "metadata": {},
   "outputs": [],
   "source": [
    "#results = run_parameter_sweep(\"simulation_results\", ΦX174_epi_config; num_reps = 3)"
   ]
  },
  {
   "cell_type": "markdown",
   "id": "1e743317-33e3-4f25-8089-6df8844de0d6",
   "metadata": {},
   "source": [
    "# Parameter Sweeps with Parallel Execution"
   ]
  },
  {
   "cell_type": "markdown",
   "id": "c5da706d-1890-400c-8c13-5d1dafccec61",
   "metadata": {},
   "source": [
    "Let's start with some system checks:"
   ]
  },
  {
   "cell_type": "markdown",
   "id": "2d238af4-550f-4cb5-adf7-2bf62ea76776",
   "metadata": {},
   "source": [
    "In Julia REPL do this before running this notebook:\n",
    "```\n",
    "using IJulia\n",
    "IJulia.installkernel(\"Julia 8 threads\", env=Dict(\"JULIA_NUM_THREADS\"=>\"8\"))\n",
    "```\n",
    "And make sure to select the appropriate kernel to run this notebook.\n",
    "\n",
    "Note I have a 12 thread machine (M2 Pro), but I am also experimenting with 16 threads on my M1 Ultra."
   ]
  },
  {
   "cell_type": "code",
   "execution_count": 31,
   "id": "80f0f439-efc8-4767-b4bd-2496ed296413",
   "metadata": {},
   "outputs": [
    {
     "name": "stdout",
     "output_type": "stream",
     "text": [
      "Threads: 8\n"
     ]
    }
   ],
   "source": [
    "# Check what you actually got:\n",
    "println(\"Threads: \", Threads.nthreads())"
   ]
  },
  {
   "cell_type": "code",
   "execution_count": 32,
   "id": "de5405f4-7684-4942-9703-2d3650ce7de6",
   "metadata": {},
   "outputs": [
    {
     "name": "stdout",
     "output_type": "stream",
     "text": [
      "Memory info: \n",
      "34.359738368 GB total\n",
      "4.742381568 GB free\n"
     ]
    }
   ],
   "source": [
    "# Before running, check available memory\n",
    "println(\"Memory info: \")\n",
    "println(Sys.total_memory() / 1e9, \" GB total\")\n",
    "println(Sys.free_memory() / 1e9, \" GB free\")"
   ]
  },
  {
   "cell_type": "code",
   "execution_count": 33,
   "id": "42e0872a-daf9-4798-8bb6-630c8e0e93e6",
   "metadata": {},
   "outputs": [
    {
     "data": {
      "text/plain": [
       "run_parameter_sweep_parallel (generic function with 1 method)"
      ]
     },
     "execution_count": 33,
     "metadata": {},
     "output_type": "execute_result"
    }
   ],
   "source": [
    "using Base.Threads\n",
    "using ProgressMeter # making progress bar version - in progress\n",
    "\n",
    "function run_parameter_sweep_parallel(base_dir::String, epi_config::EpistasisParams; \n",
    "                                    num_reps = 5,\n",
    "                                    R_range = 0:2:10,\n",
    "                                    U_range = 0:0.5:5.0, \n",
    "                                    L_range = 0.0:0.2:1.0)\n",
    "    \n",
    "    mkpath(base_dir)\n",
    "    \n",
    "    # Pre-generate all parameter combinations and seeds\n",
    "    param_combinations = []\n",
    "    for R in R_range, U in U_range, L in L_range, rep in 1:num_reps\n",
    "        seed = rand(Int)\n",
    "        push!(param_combinations, (R=R, U=U, L=L, rep=rep, seed=seed))\n",
    "    end\n",
    "\n",
    "    total_sims = length(param_combinations)\n",
    "    println(\"Running $total_sims simulations on $(nthreads()) threads...\")\n",
    "    \n",
    "    # Thread-safe storage for results\n",
    "    all_results = Vector{DataFrame}(undef, total_sims)\n",
    "\n",
    "    # Create progress bar\n",
    "    progress = Progress(total_sims, desc=\"Simulations: \", barlen=50, color=:green)\n",
    "    \n",
    "    # Parallel execution\n",
    "    @threads for i in 1:total_sims\n",
    "        params = param_combinations[i]\n",
    "        \n",
    "        # Create parameter-specific directory (thread-safe)\n",
    "        param_dir = joinpath(base_dir, \"R$(params.R)_U$(params.U)_L$(params.L)\")\n",
    "        mkpath(param_dir)\n",
    "        \n",
    "        # Create simulation config\n",
    "        sweep_sim_config = SimulationParams(\n",
    "            R_default = params.R,\n",
    "            U_default = Poisson(params.U),\n",
    "            L_default = params.L\n",
    "        )\n",
    "        \n",
    "        # Set seed for this specific simulation\n",
    "        Random.seed!(params.seed)\n",
    "        \n",
    "        # Run simulation\n",
    "        report, final_pop = synchronized_simulation(sweep_sim_config, epi_config; report_frequency = 999999)\n",
    "        \n",
    "        # Add metadata\n",
    "        insertcols!(report, 1, \n",
    "            :R => params.R,\n",
    "            :U => params.U, \n",
    "            :L => params.L,\n",
    "            :N => sim_config.N_default,\n",
    "            :K => sim_config.K_default,\n",
    "            :replicate => params.rep,\n",
    "            :seed => params.seed\n",
    "        )\n",
    "        \n",
    "        # Save CSV file\n",
    "        csv_filename = joinpath(param_dir, \"rep$(params.rep)_seed$(params.seed).csv\")        \n",
    "        CSV.write(csv_filename, report)\n",
    "        \n",
    "        # Store result for later aggregation\n",
    "        all_results[i] = report\n",
    "        \n",
    "        # Update progress bar (thread-safe)\n",
    "        next!(progress)\n",
    "        #println(\"Completed: R=$(params.R), U=$(params.U), L=$(params.L), rep=$(params.rep) on thread $(threadid())\")\n",
    "    end\n",
    "    \n",
    "    # Combine all results\n",
    "    master_results = vcat(all_results...)\n",
    "    \n",
    "    # Save master results\n",
    "    master_csv = joinpath(base_dir, \"master_results.csv\")\n",
    "    CSV.write(master_csv, master_results)\n",
    "    \n",
    "    println(\"\\nParameter sweep complete! Master results saved to: $master_csv\")\n",
    "    return master_results\n",
    "end"
   ]
  },
  {
   "cell_type": "markdown",
   "id": "51927f55-5031-41ab-af65-b8ff4c52d3d1",
   "metadata": {},
   "source": [
    "Note that I've had to comment out the plot generation as this appeared not to be safe in parallel execution.\n",
    "\n",
    "Now run parameter sweep!"
   ]
  },
  {
   "cell_type": "code",
   "execution_count": 34,
   "id": "1285e37d-af13-4cbb-a75d-01adae97c08b",
   "metadata": {},
   "outputs": [
    {
     "name": "stdout",
     "output_type": "stream",
     "text": [
      "Running 4 simulations on 8 threads...\n",
      "Population extinct at generation 13\n",
      "Population extinct at generation 53\n"
     ]
    },
    {
     "name": "stderr",
     "output_type": "stream",
     "text": [
      "\u001b[32mSimulations: 100%|██████████████████████████████████████████████████| Time: 0:02:05\u001b[39m\n"
     ]
    },
    {
     "name": "stdout",
     "output_type": "stream",
     "text": [
      "\n",
      "Parameter sweep complete! Master results saved to: test_run/master_results.csv\n"
     ]
    },
    {
     "data": {
      "text/html": [
       "<div><div style = \"float: left;\"><span>1068×27 DataFrame</span></div><div style = \"float: right;\"><span style = \"font-style: italic;\">1043 rows omitted</span></div><div style = \"clear: both;\"></div></div><div class = \"data-frame\" style = \"overflow-x: scroll;\"><table class = \"data-frame\" style = \"margin-bottom: 6px;\"><thead><tr class = \"header\"><th class = \"rowNumber\" style = \"font-weight: bold; text-align: right;\">Row</th><th style = \"text-align: left;\">R</th><th style = \"text-align: left;\">U</th><th style = \"text-align: left;\">L</th><th style = \"text-align: left;\">N</th><th style = \"text-align: left;\">K</th><th style = \"text-align: left;\">replicate</th><th style = \"text-align: left;\">seed</th><th style = \"text-align: left;\">generation</th><th style = \"text-align: left;\">psiz</th><th style = \"text-align: left;\">q1fit</th><th style = \"text-align: left;\">meanfit</th><th style = \"text-align: left;\">q2fit</th><th style = \"text-align: left;\">maxfit</th><th style = \"text-align: left;\">minfree</th><th style = \"text-align: left;\">meanfree</th><th style = \"text-align: left;\">maxfree</th><th style = \"text-align: left;\">minmut</th><th style = \"text-align: left;\">meanmut</th><th style = \"text-align: left;\">maxmut</th><th style = \"text-align: left;\">auxiliary_meanmut</th><th style = \"text-align: left;\">assembly_meanmut</th><th style = \"text-align: left;\">replication_meanmut</th><th style = \"text-align: left;\">host_meanmut</th><th style = \"text-align: left;\">auxiliary_meanfree</th><th style = \"text-align: left;\">assembly_meanfree</th><th style = \"text-align: left;\">replication_meanfree</th><th style = \"text-align: left;\">host_meanfree</th></tr><tr class = \"subheader headerLastRow\"><th class = \"rowNumber\" style = \"font-weight: bold; text-align: right;\"></th><th title = \"Int64\" style = \"text-align: left;\">Int64</th><th title = \"Float64\" style = \"text-align: left;\">Float64</th><th title = \"Float64\" style = \"text-align: left;\">Float64</th><th title = \"Int64\" style = \"text-align: left;\">Int64</th><th title = \"Int64\" style = \"text-align: left;\">Int64</th><th title = \"Int64\" style = \"text-align: left;\">Int64</th><th title = \"Int64\" style = \"text-align: left;\">Int64</th><th title = \"Int64\" style = \"text-align: left;\">Int64</th><th title = \"Int64\" style = \"text-align: left;\">Int64</th><th title = \"Float64\" style = \"text-align: left;\">Float64</th><th title = \"Float64\" style = \"text-align: left;\">Float64</th><th title = \"Float64\" style = \"text-align: left;\">Float64</th><th title = \"Float64\" style = \"text-align: left;\">Float64</th><th title = \"Float64\" style = \"text-align: left;\">Float64</th><th title = \"Float64\" style = \"text-align: left;\">Float64</th><th title = \"Float64\" style = \"text-align: left;\">Float64</th><th title = \"Float64\" style = \"text-align: left;\">Float64</th><th title = \"Float64\" style = \"text-align: left;\">Float64</th><th title = \"Float64\" style = \"text-align: left;\">Float64</th><th title = \"Float64\" style = \"text-align: left;\">Float64</th><th title = \"Float64\" style = \"text-align: left;\">Float64</th><th title = \"Float64\" style = \"text-align: left;\">Float64</th><th title = \"Float64\" style = \"text-align: left;\">Float64</th><th title = \"Float64\" style = \"text-align: left;\">Float64</th><th title = \"Float64\" style = \"text-align: left;\">Float64</th><th title = \"Float64\" style = \"text-align: left;\">Float64</th><th title = \"Float64\" style = \"text-align: left;\">Float64</th></tr></thead><tbody><tr><td class = \"rowNumber\" style = \"font-weight: bold; text-align: right;\">1</td><td style = \"text-align: right;\">1</td><td style = \"text-align: right;\">1.0</td><td style = \"text-align: right;\">0.0</td><td style = \"text-align: right;\">5000</td><td style = \"text-align: right;\">10000</td><td style = \"text-align: right;\">1</td><td style = \"text-align: right;\">-3244438032551929959</td><td style = \"text-align: right;\">1</td><td style = \"text-align: right;\">5000</td><td style = \"text-align: right;\">0.996709</td><td style = \"text-align: right;\">0.996709</td><td style = \"text-align: right;\">0.996709</td><td style = \"text-align: right;\">0.996709</td><td style = \"text-align: right;\">-5.0</td><td style = \"text-align: right;\">-5.0</td><td style = \"text-align: right;\">-5.0</td><td style = \"text-align: right;\">0.0</td><td style = \"text-align: right;\">0.0</td><td style = \"text-align: right;\">0.0</td><td style = \"text-align: right;\">0.0</td><td style = \"text-align: right;\">0.0</td><td style = \"text-align: right;\">0.0</td><td style = \"text-align: right;\">0.0</td><td style = \"text-align: right;\">-5.0</td><td style = \"text-align: right;\">-5.0</td><td style = \"text-align: right;\">-5.0</td><td style = \"text-align: right;\">-5.0</td></tr><tr><td class = \"rowNumber\" style = \"font-weight: bold; text-align: right;\">2</td><td style = \"text-align: right;\">1</td><td style = \"text-align: right;\">1.0</td><td style = \"text-align: right;\">0.0</td><td style = \"text-align: right;\">5000</td><td style = \"text-align: right;\">10000</td><td style = \"text-align: right;\">1</td><td style = \"text-align: right;\">-3244438032551929959</td><td style = \"text-align: right;\">2</td><td style = \"text-align: right;\">4987</td><td style = \"text-align: right;\">0.992357</td><td style = \"text-align: right;\">0.974478</td><td style = \"text-align: right;\">0.997868</td><td style = \"text-align: right;\">0.998444</td><td style = \"text-align: right;\">-5.27081</td><td style = \"text-align: right;\">-4.90507</td><td style = \"text-align: right;\">-3.89564</td><td style = \"text-align: right;\">0.0</td><td style = \"text-align: right;\">1.02647</td><td style = \"text-align: right;\">6.0</td><td style = \"text-align: right;\">0.179266</td><td style = \"text-align: right;\">0.285542</td><td style = \"text-align: right;\">0.182073</td><td style = \"text-align: right;\">0.379587</td><td style = \"text-align: right;\">-4.90544</td><td style = \"text-align: right;\">-4.90398</td><td style = \"text-align: right;\">-4.90938</td><td style = \"text-align: right;\">-4.90354</td></tr><tr><td class = \"rowNumber\" style = \"font-weight: bold; text-align: right;\">3</td><td style = \"text-align: right;\">1</td><td style = \"text-align: right;\">1.0</td><td style = \"text-align: right;\">0.0</td><td style = \"text-align: right;\">5000</td><td style = \"text-align: right;\">10000</td><td style = \"text-align: right;\">1</td><td style = \"text-align: right;\">-3244438032551929959</td><td style = \"text-align: right;\">3</td><td style = \"text-align: right;\">4857</td><td style = \"text-align: right;\">0.975924</td><td style = \"text-align: right;\">0.956925</td><td style = \"text-align: right;\">0.994744</td><td style = \"text-align: right;\">0.998484</td><td style = \"text-align: right;\">-5.46453</td><td style = \"text-align: right;\">-4.8209</td><td style = \"text-align: right;\">-3.22102</td><td style = \"text-align: right;\">0.0</td><td style = \"text-align: right;\">2.00124</td><td style = \"text-align: right;\">10.0</td><td style = \"text-align: right;\">0.352481</td><td style = \"text-align: right;\">0.55384</td><td style = \"text-align: right;\">0.368128</td><td style = \"text-align: right;\">0.726786</td><td style = \"text-align: right;\">-4.81059</td><td style = \"text-align: right;\">-4.81471</td><td style = \"text-align: right;\">-4.82836</td><td style = \"text-align: right;\">-4.82696</td></tr><tr><td class = \"rowNumber\" style = \"font-weight: bold; text-align: right;\">4</td><td style = \"text-align: right;\">1</td><td style = \"text-align: right;\">1.0</td><td style = \"text-align: right;\">0.0</td><td style = \"text-align: right;\">5000</td><td style = \"text-align: right;\">10000</td><td style = \"text-align: right;\">1</td><td style = \"text-align: right;\">-3244438032551929959</td><td style = \"text-align: right;\">4</td><td style = \"text-align: right;\">4635</td><td style = \"text-align: right;\">0.956743</td><td style = \"text-align: right;\">0.941461</td><td style = \"text-align: right;\">0.989787</td><td style = \"text-align: right;\">0.998586</td><td style = \"text-align: right;\">-5.62443</td><td style = \"text-align: right;\">-4.7452</td><td style = \"text-align: right;\">-2.79461</td><td style = \"text-align: right;\">0.0</td><td style = \"text-align: right;\">2.93657</td><td style = \"text-align: right;\">10.0</td><td style = \"text-align: right;\">0.520173</td><td style = \"text-align: right;\">0.815318</td><td style = \"text-align: right;\">0.53959</td><td style = \"text-align: right;\">1.06149</td><td style = \"text-align: right;\">-4.73962</td><td style = \"text-align: right;\">-4.72506</td><td style = \"text-align: right;\">-4.7578</td><td style = \"text-align: right;\">-4.75679</td></tr><tr><td class = \"rowNumber\" style = \"font-weight: bold; text-align: right;\">5</td><td style = \"text-align: right;\">1</td><td style = \"text-align: right;\">1.0</td><td style = \"text-align: right;\">0.0</td><td style = \"text-align: right;\">5000</td><td style = \"text-align: right;\">10000</td><td style = \"text-align: right;\">1</td><td style = \"text-align: right;\">-3244438032551929959</td><td style = \"text-align: right;\">5</td><td style = \"text-align: right;\">4346</td><td style = \"text-align: right;\">0.935487</td><td style = \"text-align: right;\">0.926332</td><td style = \"text-align: right;\">0.983435</td><td style = \"text-align: right;\">0.998641</td><td style = \"text-align: right;\">-5.77405</td><td style = \"text-align: right;\">-4.6782</td><td style = \"text-align: right;\">-2.46642</td><td style = \"text-align: right;\">0.0</td><td style = \"text-align: right;\">3.87115</td><td style = \"text-align: right;\">13.0</td><td style = \"text-align: right;\">0.704556</td><td style = \"text-align: right;\">1.06512</td><td style = \"text-align: right;\">0.706397</td><td style = \"text-align: right;\">1.39508</td><td style = \"text-align: right;\">-4.65855</td><td style = \"text-align: right;\">-4.65514</td><td style = \"text-align: right;\">-4.68916</td><td style = \"text-align: right;\">-4.69985</td></tr><tr><td class = \"rowNumber\" style = \"font-weight: bold; text-align: right;\">6</td><td style = \"text-align: right;\">1</td><td style = \"text-align: right;\">1.0</td><td style = \"text-align: right;\">0.0</td><td style = \"text-align: right;\">5000</td><td style = \"text-align: right;\">10000</td><td style = \"text-align: right;\">1</td><td style = \"text-align: right;\">-3244438032551929959</td><td style = \"text-align: right;\">6</td><td style = \"text-align: right;\">3991</td><td style = \"text-align: right;\">0.91905</td><td style = \"text-align: right;\">0.915122</td><td style = \"text-align: right;\">0.977721</td><td style = \"text-align: right;\">0.998641</td><td style = \"text-align: right;\">-5.90756</td><td style = \"text-align: right;\">-4.62524</td><td style = \"text-align: right;\">-2.26833</td><td style = \"text-align: right;\">0.0</td><td style = \"text-align: right;\">4.76272</td><td style = \"text-align: right;\">14.0</td><td style = \"text-align: right;\">0.872463</td><td style = \"text-align: right;\">1.30393</td><td style = \"text-align: right;\">0.865698</td><td style = \"text-align: right;\">1.72062</td><td style = \"text-align: right;\">-4.59564</td><td style = \"text-align: right;\">-4.59415</td><td style = \"text-align: right;\">-4.65081</td><td style = \"text-align: right;\">-4.65058</td></tr><tr><td class = \"rowNumber\" style = \"font-weight: bold; text-align: right;\">7</td><td style = \"text-align: right;\">1</td><td style = \"text-align: right;\">1.0</td><td style = \"text-align: right;\">0.0</td><td style = \"text-align: right;\">5000</td><td style = \"text-align: right;\">10000</td><td style = \"text-align: right;\">1</td><td style = \"text-align: right;\">-3244438032551929959</td><td style = \"text-align: right;\">7</td><td style = \"text-align: right;\">3659</td><td style = \"text-align: right;\">0.904656</td><td style = \"text-align: right;\">0.905111</td><td style = \"text-align: right;\">0.971102</td><td style = \"text-align: right;\">0.998769</td><td style = \"text-align: right;\">-6.0196</td><td style = \"text-align: right;\">-4.5706</td><td style = \"text-align: right;\">-2.07621</td><td style = \"text-align: right;\">0.0</td><td style = \"text-align: right;\">5.65236</td><td style = \"text-align: right;\">18.0</td><td style = \"text-align: right;\">1.01831</td><td style = \"text-align: right;\">1.56901</td><td style = \"text-align: right;\">1.03116</td><td style = \"text-align: right;\">2.03389</td><td style = \"text-align: right;\">-4.53572</td><td style = \"text-align: right;\">-4.53724</td><td style = \"text-align: right;\">-4.5946</td><td style = \"text-align: right;\">-4.60106</td></tr><tr><td class = \"rowNumber\" style = \"font-weight: bold; text-align: right;\">8</td><td style = \"text-align: right;\">1</td><td style = \"text-align: right;\">1.0</td><td style = \"text-align: right;\">0.0</td><td style = \"text-align: right;\">5000</td><td style = \"text-align: right;\">10000</td><td style = \"text-align: right;\">1</td><td style = \"text-align: right;\">-3244438032551929959</td><td style = \"text-align: right;\">8</td><td style = \"text-align: right;\">3332</td><td style = \"text-align: right;\">0.883613</td><td style = \"text-align: right;\">0.888708</td><td style = \"text-align: right;\">0.963111</td><td style = \"text-align: right;\">0.998867</td><td style = \"text-align: right;\">-6.11586</td><td style = \"text-align: right;\">-4.51375</td><td style = \"text-align: right;\">-1.91903</td><td style = \"text-align: right;\">0.0</td><td style = \"text-align: right;\">6.55552</td><td style = \"text-align: right;\">16.0</td><td style = \"text-align: right;\">1.18337</td><td style = \"text-align: right;\">1.82863</td><td style = \"text-align: right;\">1.19778</td><td style = \"text-align: right;\">2.34574</td><td style = \"text-align: right;\">-4.47225</td><td style = \"text-align: right;\">-4.47456</td><td style = \"text-align: right;\">-4.54801</td><td style = \"text-align: right;\">-4.54677</td></tr><tr><td class = \"rowNumber\" style = \"font-weight: bold; text-align: right;\">9</td><td style = \"text-align: right;\">1</td><td style = \"text-align: right;\">1.0</td><td style = \"text-align: right;\">0.0</td><td style = \"text-align: right;\">5000</td><td style = \"text-align: right;\">10000</td><td style = \"text-align: right;\">1</td><td style = \"text-align: right;\">-3244438032551929959</td><td style = \"text-align: right;\">9</td><td style = \"text-align: right;\">2938</td><td style = \"text-align: right;\">0.861376</td><td style = \"text-align: right;\">0.87884</td><td style = \"text-align: right;\">0.956143</td><td style = \"text-align: right;\">0.998867</td><td style = \"text-align: right;\">-6.19955</td><td style = \"text-align: right;\">-4.46852</td><td style = \"text-align: right;\">-1.79375</td><td style = \"text-align: right;\">0.0</td><td style = \"text-align: right;\">7.39312</td><td style = \"text-align: right;\">18.0</td><td style = \"text-align: right;\">1.33799</td><td style = \"text-align: right;\">2.07114</td><td style = \"text-align: right;\">1.34445</td><td style = \"text-align: right;\">2.63955</td><td style = \"text-align: right;\">-4.43539</td><td style = \"text-align: right;\">-4.41095</td><td style = \"text-align: right;\">-4.50542</td><td style = \"text-align: right;\">-4.50981</td></tr><tr><td class = \"rowNumber\" style = \"font-weight: bold; text-align: right;\">10</td><td style = \"text-align: right;\">1</td><td style = \"text-align: right;\">1.0</td><td style = \"text-align: right;\">0.0</td><td style = \"text-align: right;\">5000</td><td style = \"text-align: right;\">10000</td><td style = \"text-align: right;\">1</td><td style = \"text-align: right;\">-3244438032551929959</td><td style = \"text-align: right;\">10</td><td style = \"text-align: right;\">2563</td><td style = \"text-align: right;\">0.843953</td><td style = \"text-align: right;\">0.867158</td><td style = \"text-align: right;\">0.950645</td><td style = \"text-align: right;\">0.998692</td><td style = \"text-align: right;\">-6.29199</td><td style = \"text-align: right;\">-4.43455</td><td style = \"text-align: right;\">-1.69615</td><td style = \"text-align: right;\">1.0</td><td style = \"text-align: right;\">8.21225</td><td style = \"text-align: right;\">19.0</td><td style = \"text-align: right;\">1.48537</td><td style = \"text-align: right;\">2.31409</td><td style = \"text-align: right;\">1.49863</td><td style = \"text-align: right;\">2.91416</td><td style = \"text-align: right;\">-4.40256</td><td style = \"text-align: right;\">-4.36416</td><td style = \"text-align: right;\">-4.46516</td><td style = \"text-align: right;\">-4.48804</td></tr><tr><td class = \"rowNumber\" style = \"font-weight: bold; text-align: right;\">11</td><td style = \"text-align: right;\">1</td><td style = \"text-align: right;\">1.0</td><td style = \"text-align: right;\">0.0</td><td style = \"text-align: right;\">5000</td><td style = \"text-align: right;\">10000</td><td style = \"text-align: right;\">1</td><td style = \"text-align: right;\">-3244438032551929959</td><td style = \"text-align: right;\">11</td><td style = \"text-align: right;\">2208</td><td style = \"text-align: right;\">0.841084</td><td style = \"text-align: right;\">0.865367</td><td style = \"text-align: right;\">0.94272</td><td style = \"text-align: right;\">0.998772</td><td style = \"text-align: right;\">-6.35896</td><td style = \"text-align: right;\">-4.40183</td><td style = \"text-align: right;\">-1.64728</td><td style = \"text-align: right;\">1.0</td><td style = \"text-align: right;\">8.97871</td><td style = \"text-align: right;\">20.0</td><td style = \"text-align: right;\">1.62047</td><td style = \"text-align: right;\">2.53623</td><td style = \"text-align: right;\">1.61911</td><td style = \"text-align: right;\">3.2029</td><td style = \"text-align: right;\">-4.34687</td><td style = \"text-align: right;\">-4.3277</td><td style = \"text-align: right;\">-4.4598</td><td style = \"text-align: right;\">-4.45592</td></tr><tr><td class = \"rowNumber\" style = \"font-weight: bold; text-align: right;\">12</td><td style = \"text-align: right;\">1</td><td style = \"text-align: right;\">1.0</td><td style = \"text-align: right;\">0.0</td><td style = \"text-align: right;\">5000</td><td style = \"text-align: right;\">10000</td><td style = \"text-align: right;\">1</td><td style = \"text-align: right;\">-3244438032551929959</td><td style = \"text-align: right;\">12</td><td style = \"text-align: right;\">1920</td><td style = \"text-align: right;\">0.815942</td><td style = \"text-align: right;\">0.850501</td><td style = \"text-align: right;\">0.933832</td><td style = \"text-align: right;\">0.998507</td><td style = \"text-align: right;\">-6.43971</td><td style = \"text-align: right;\">-4.35654</td><td style = \"text-align: right;\">-1.5153</td><td style = \"text-align: right;\">1.0</td><td style = \"text-align: right;\">9.85521</td><td style = \"text-align: right;\">24.0</td><td style = \"text-align: right;\">1.78073</td><td style = \"text-align: right;\">2.78177</td><td style = \"text-align: right;\">1.77344</td><td style = \"text-align: right;\">3.51927</td><td style = \"text-align: right;\">-4.29248</td><td style = \"text-align: right;\">-4.27689</td><td style = \"text-align: right;\">-4.41622</td><td style = \"text-align: right;\">-4.41848</td></tr><tr><td class = \"rowNumber\" style = \"font-weight: bold; text-align: right;\">13</td><td style = \"text-align: right;\">1</td><td style = \"text-align: right;\">1.0</td><td style = \"text-align: right;\">0.0</td><td style = \"text-align: right;\">5000</td><td style = \"text-align: right;\">10000</td><td style = \"text-align: right;\">1</td><td style = \"text-align: right;\">-3244438032551929959</td><td style = \"text-align: right;\">13</td><td style = \"text-align: right;\">1645</td><td style = \"text-align: right;\">0.815441</td><td style = \"text-align: right;\">0.852101</td><td style = \"text-align: right;\">0.931272</td><td style = \"text-align: right;\">0.998286</td><td style = \"text-align: right;\">-6.49014</td><td style = \"text-align: right;\">-4.32439</td><td style = \"text-align: right;\">-1.5033</td><td style = \"text-align: right;\">2.0</td><td style = \"text-align: right;\">10.6468</td><td style = \"text-align: right;\">22.0</td><td style = \"text-align: right;\">1.93374</td><td style = \"text-align: right;\">2.99757</td><td style = \"text-align: right;\">1.91003</td><td style = \"text-align: right;\">3.80547</td><td style = \"text-align: right;\">-4.25299</td><td style = \"text-align: right;\">-4.24578</td><td style = \"text-align: right;\">-4.3976</td><td style = \"text-align: right;\">-4.38245</td></tr><tr><td style = \"text-align: right;\">&vellip;</td><td style = \"text-align: right;\">&vellip;</td><td style = \"text-align: right;\">&vellip;</td><td style = \"text-align: right;\">&vellip;</td><td style = \"text-align: right;\">&vellip;</td><td style = \"text-align: right;\">&vellip;</td><td style = \"text-align: right;\">&vellip;</td><td style = \"text-align: right;\">&vellip;</td><td style = \"text-align: right;\">&vellip;</td><td style = \"text-align: right;\">&vellip;</td><td style = \"text-align: right;\">&vellip;</td><td style = \"text-align: right;\">&vellip;</td><td style = \"text-align: right;\">&vellip;</td><td style = \"text-align: right;\">&vellip;</td><td style = \"text-align: right;\">&vellip;</td><td style = \"text-align: right;\">&vellip;</td><td style = \"text-align: right;\">&vellip;</td><td style = \"text-align: right;\">&vellip;</td><td style = \"text-align: right;\">&vellip;</td><td style = \"text-align: right;\">&vellip;</td><td style = \"text-align: right;\">&vellip;</td><td style = \"text-align: right;\">&vellip;</td><td style = \"text-align: right;\">&vellip;</td><td style = \"text-align: right;\">&vellip;</td><td style = \"text-align: right;\">&vellip;</td><td style = \"text-align: right;\">&vellip;</td><td style = \"text-align: right;\">&vellip;</td><td style = \"text-align: right;\">&vellip;</td></tr><tr><td class = \"rowNumber\" style = \"font-weight: bold; text-align: right;\">1057</td><td style = \"text-align: right;\">10</td><td style = \"text-align: right;\">5.0</td><td style = \"text-align: right;\">0.0</td><td style = \"text-align: right;\">5000</td><td style = \"text-align: right;\">10000</td><td style = \"text-align: right;\">1</td><td style = \"text-align: right;\">-7420629519107935415</td><td style = \"text-align: right;\">490</td><td style = \"text-align: right;\">10000</td><td style = \"text-align: right;\">0.0478063</td><td style = \"text-align: right;\">0.294234</td><td style = \"text-align: right;\">0.227378</td><td style = \"text-align: right;\">0.99199</td><td style = \"text-align: right;\">-8.6833</td><td style = \"text-align: right;\">-3.20087</td><td style = \"text-align: right;\">1.5477</td><td style = \"text-align: right;\">1946.0</td><td style = \"text-align: right;\">1998.13</td><td style = \"text-align: right;\">2034.0</td><td style = \"text-align: right;\">362.159</td><td style = \"text-align: right;\">544.585</td><td style = \"text-align: right;\">366.961</td><td style = \"text-align: right;\">724.429</td><td style = \"text-align: right;\">-3.05582</td><td style = \"text-align: right;\">-2.61447</td><td style = \"text-align: right;\">-3.42047</td><td style = \"text-align: right;\">-3.6034</td></tr><tr><td class = \"rowNumber\" style = \"font-weight: bold; text-align: right;\">1058</td><td style = \"text-align: right;\">10</td><td style = \"text-align: right;\">5.0</td><td style = \"text-align: right;\">0.0</td><td style = \"text-align: right;\">5000</td><td style = \"text-align: right;\">10000</td><td style = \"text-align: right;\">1</td><td style = \"text-align: right;\">-7420629519107935415</td><td style = \"text-align: right;\">491</td><td style = \"text-align: right;\">10000</td><td style = \"text-align: right;\">0.0512676</td><td style = \"text-align: right;\">0.294063</td><td style = \"text-align: right;\">0.228897</td><td style = \"text-align: right;\">0.988389</td><td style = \"text-align: right;\">-8.75068</td><td style = \"text-align: right;\">-3.21017</td><td style = \"text-align: right;\">1.52812</td><td style = \"text-align: right;\">1952.0</td><td style = \"text-align: right;\">2002.27</td><td style = \"text-align: right;\">2038.0</td><td style = \"text-align: right;\">362.84</td><td style = \"text-align: right;\">545.571</td><td style = \"text-align: right;\">367.623</td><td style = \"text-align: right;\">726.232</td><td style = \"text-align: right;\">-3.07194</td><td style = \"text-align: right;\">-2.62544</td><td style = \"text-align: right;\">-3.42199</td><td style = \"text-align: right;\">-3.61191</td></tr><tr><td class = \"rowNumber\" style = \"font-weight: bold; text-align: right;\">1059</td><td style = \"text-align: right;\">10</td><td style = \"text-align: right;\">5.0</td><td style = \"text-align: right;\">0.0</td><td style = \"text-align: right;\">5000</td><td style = \"text-align: right;\">10000</td><td style = \"text-align: right;\">1</td><td style = \"text-align: right;\">-7420629519107935415</td><td style = \"text-align: right;\">492</td><td style = \"text-align: right;\">10000</td><td style = \"text-align: right;\">0.047246</td><td style = \"text-align: right;\">0.291826</td><td style = \"text-align: right;\">0.226194</td><td style = \"text-align: right;\">0.992426</td><td style = \"text-align: right;\">-8.73687</td><td style = \"text-align: right;\">-3.19946</td><td style = \"text-align: right;\">1.55499</td><td style = \"text-align: right;\">1956.0</td><td style = \"text-align: right;\">2006.43</td><td style = \"text-align: right;\">2040.0</td><td style = \"text-align: right;\">363.459</td><td style = \"text-align: right;\">546.661</td><td style = \"text-align: right;\">368.07</td><td style = \"text-align: right;\">728.241</td><td style = \"text-align: right;\">-3.04175</td><td style = \"text-align: right;\">-2.62048</td><td style = \"text-align: right;\">-3.41007</td><td style = \"text-align: right;\">-3.60725</td></tr><tr><td class = \"rowNumber\" style = \"font-weight: bold; text-align: right;\">1060</td><td style = \"text-align: right;\">10</td><td style = \"text-align: right;\">5.0</td><td style = \"text-align: right;\">0.0</td><td style = \"text-align: right;\">5000</td><td style = \"text-align: right;\">10000</td><td style = \"text-align: right;\">1</td><td style = \"text-align: right;\">-7420629519107935415</td><td style = \"text-align: right;\">493</td><td style = \"text-align: right;\">10000</td><td style = \"text-align: right;\">0.0457442</td><td style = \"text-align: right;\">0.291941</td><td style = \"text-align: right;\">0.221681</td><td style = \"text-align: right;\">0.99081</td><td style = \"text-align: right;\">-8.71789</td><td style = \"text-align: right;\">-3.20519</td><td style = \"text-align: right;\">1.54993</td><td style = \"text-align: right;\">1959.0</td><td style = \"text-align: right;\">2010.44</td><td style = \"text-align: right;\">2044.0</td><td style = \"text-align: right;\">364.069</td><td style = \"text-align: right;\">547.649</td><td style = \"text-align: right;\">368.7</td><td style = \"text-align: right;\">730.018</td><td style = \"text-align: right;\">-3.04716</td><td style = \"text-align: right;\">-2.60832</td><td style = \"text-align: right;\">-3.43466</td><td style = \"text-align: right;\">-3.61713</td></tr><tr><td class = \"rowNumber\" style = \"font-weight: bold; text-align: right;\">1061</td><td style = \"text-align: right;\">10</td><td style = \"text-align: right;\">5.0</td><td style = \"text-align: right;\">0.0</td><td style = \"text-align: right;\">5000</td><td style = \"text-align: right;\">10000</td><td style = \"text-align: right;\">1</td><td style = \"text-align: right;\">-7420629519107935415</td><td style = \"text-align: right;\">494</td><td style = \"text-align: right;\">10000</td><td style = \"text-align: right;\">0.0497835</td><td style = \"text-align: right;\">0.297551</td><td style = \"text-align: right;\">0.225388</td><td style = \"text-align: right;\">0.988099</td><td style = \"text-align: right;\">-8.71291</td><td style = \"text-align: right;\">-3.21989</td><td style = \"text-align: right;\">1.53587</td><td style = \"text-align: right;\">1964.0</td><td style = \"text-align: right;\">2014.35</td><td style = \"text-align: right;\">2045.0</td><td style = \"text-align: right;\">364.639</td><td style = \"text-align: right;\">548.568</td><td style = \"text-align: right;\">369.327</td><td style = \"text-align: right;\">731.815</td><td style = \"text-align: right;\">-3.09408</td><td style = \"text-align: right;\">-2.60494</td><td style = \"text-align: right;\">-3.44493</td><td style = \"text-align: right;\">-3.63148</td></tr><tr><td class = \"rowNumber\" style = \"font-weight: bold; text-align: right;\">1062</td><td style = \"text-align: right;\">10</td><td style = \"text-align: right;\">5.0</td><td style = \"text-align: right;\">0.0</td><td style = \"text-align: right;\">5000</td><td style = \"text-align: right;\">10000</td><td style = \"text-align: right;\">1</td><td style = \"text-align: right;\">-7420629519107935415</td><td style = \"text-align: right;\">495</td><td style = \"text-align: right;\">10000</td><td style = \"text-align: right;\">0.0531777</td><td style = \"text-align: right;\">0.302726</td><td style = \"text-align: right;\">0.233612</td><td style = \"text-align: right;\">0.988834</td><td style = \"text-align: right;\">-8.681</td><td style = \"text-align: right;\">-3.22573</td><td style = \"text-align: right;\">1.50318</td><td style = \"text-align: right;\">1967.0</td><td style = \"text-align: right;\">2018.65</td><td style = \"text-align: right;\">2050.0</td><td style = \"text-align: right;\">365.342</td><td style = \"text-align: right;\">549.543</td><td style = \"text-align: right;\">370.222</td><td style = \"text-align: right;\">733.545</td><td style = \"text-align: right;\">-3.10518</td><td style = \"text-align: right;\">-2.59308</td><td style = \"text-align: right;\">-3.48365</td><td style = \"text-align: right;\">-3.63153</td></tr><tr><td class = \"rowNumber\" style = \"font-weight: bold; text-align: right;\">1063</td><td style = \"text-align: right;\">10</td><td style = \"text-align: right;\">5.0</td><td style = \"text-align: right;\">0.0</td><td style = \"text-align: right;\">5000</td><td style = \"text-align: right;\">10000</td><td style = \"text-align: right;\">1</td><td style = \"text-align: right;\">-7420629519107935415</td><td style = \"text-align: right;\">496</td><td style = \"text-align: right;\">10000</td><td style = \"text-align: right;\">0.0480497</td><td style = \"text-align: right;\">0.296465</td><td style = \"text-align: right;\">0.226809</td><td style = \"text-align: right;\">0.989149</td><td style = \"text-align: right;\">-8.66058</td><td style = \"text-align: right;\">-3.20202</td><td style = \"text-align: right;\">1.53233</td><td style = \"text-align: right;\">1971.0</td><td style = \"text-align: right;\">2022.78</td><td style = \"text-align: right;\">2056.0</td><td style = \"text-align: right;\">365.965</td><td style = \"text-align: right;\">550.582</td><td style = \"text-align: right;\">370.873</td><td style = \"text-align: right;\">735.358</td><td style = \"text-align: right;\">-3.08405</td><td style = \"text-align: right;\">-2.58433</td><td style = \"text-align: right;\">-3.47324</td><td style = \"text-align: right;\">-3.58868</td></tr><tr><td class = \"rowNumber\" style = \"font-weight: bold; text-align: right;\">1064</td><td style = \"text-align: right;\">10</td><td style = \"text-align: right;\">5.0</td><td style = \"text-align: right;\">0.0</td><td style = \"text-align: right;\">5000</td><td style = \"text-align: right;\">10000</td><td style = \"text-align: right;\">1</td><td style = \"text-align: right;\">-7420629519107935415</td><td style = \"text-align: right;\">497</td><td style = \"text-align: right;\">10000</td><td style = \"text-align: right;\">0.0515761</td><td style = \"text-align: right;\">0.299882</td><td style = \"text-align: right;\">0.226915</td><td style = \"text-align: right;\">0.993872</td><td style = \"text-align: right;\">-8.59702</td><td style = \"text-align: right;\">-3.19141</td><td style = \"text-align: right;\">1.51693</td><td style = \"text-align: right;\">1975.0</td><td style = \"text-align: right;\">2026.38</td><td style = \"text-align: right;\">2060.0</td><td style = \"text-align: right;\">366.489</td><td style = \"text-align: right;\">551.489</td><td style = \"text-align: right;\">371.437</td><td style = \"text-align: right;\">736.964</td><td style = \"text-align: right;\">-3.05574</td><td style = \"text-align: right;\">-2.57155</td><td style = \"text-align: right;\">-3.48499</td><td style = \"text-align: right;\">-3.57734</td></tr><tr><td class = \"rowNumber\" style = \"font-weight: bold; text-align: right;\">1065</td><td style = \"text-align: right;\">10</td><td style = \"text-align: right;\">5.0</td><td style = \"text-align: right;\">0.0</td><td style = \"text-align: right;\">5000</td><td style = \"text-align: right;\">10000</td><td style = \"text-align: right;\">1</td><td style = \"text-align: right;\">-7420629519107935415</td><td style = \"text-align: right;\">498</td><td style = \"text-align: right;\">10000</td><td style = \"text-align: right;\">0.0465216</td><td style = \"text-align: right;\">0.30097</td><td style = \"text-align: right;\">0.231163</td><td style = \"text-align: right;\">0.993247</td><td style = \"text-align: right;\">-8.54407</td><td style = \"text-align: right;\">-3.17971</td><td style = \"text-align: right;\">1.50157</td><td style = \"text-align: right;\">1977.0</td><td style = \"text-align: right;\">2030.33</td><td style = \"text-align: right;\">2068.0</td><td style = \"text-align: right;\">367.18</td><td style = \"text-align: right;\">552.427</td><td style = \"text-align: right;\">372.35</td><td style = \"text-align: right;\">738.371</td><td style = \"text-align: right;\">-3.07621</td><td style = \"text-align: right;\">-2.57906</td><td style = \"text-align: right;\">-3.43972</td><td style = \"text-align: right;\">-3.55195</td></tr><tr><td class = \"rowNumber\" style = \"font-weight: bold; text-align: right;\">1066</td><td style = \"text-align: right;\">10</td><td style = \"text-align: right;\">5.0</td><td style = \"text-align: right;\">0.0</td><td style = \"text-align: right;\">5000</td><td style = \"text-align: right;\">10000</td><td style = \"text-align: right;\">1</td><td style = \"text-align: right;\">-7420629519107935415</td><td style = \"text-align: right;\">499</td><td style = \"text-align: right;\">10000</td><td style = \"text-align: right;\">0.0505902</td><td style = \"text-align: right;\">0.303074</td><td style = \"text-align: right;\">0.235269</td><td style = \"text-align: right;\">0.995778</td><td style = \"text-align: right;\">-8.48151</td><td style = \"text-align: right;\">-3.1637</td><td style = \"text-align: right;\">1.4946</td><td style = \"text-align: right;\">1985.0</td><td style = \"text-align: right;\">2034.28</td><td style = \"text-align: right;\">2068.0</td><td style = \"text-align: right;\">367.897</td><td style = \"text-align: right;\">553.308</td><td style = \"text-align: right;\">373.37</td><td style = \"text-align: right;\">739.704</td><td style = \"text-align: right;\">-3.07427</td><td style = \"text-align: right;\">-2.57128</td><td style = \"text-align: right;\">-3.40751</td><td style = \"text-align: right;\">-3.53081</td></tr><tr><td class = \"rowNumber\" style = \"font-weight: bold; text-align: right;\">1067</td><td style = \"text-align: right;\">10</td><td style = \"text-align: right;\">5.0</td><td style = \"text-align: right;\">0.0</td><td style = \"text-align: right;\">5000</td><td style = \"text-align: right;\">10000</td><td style = \"text-align: right;\">1</td><td style = \"text-align: right;\">-7420629519107935415</td><td style = \"text-align: right;\">500</td><td style = \"text-align: right;\">10000</td><td style = \"text-align: right;\">0.0471074</td><td style = \"text-align: right;\">0.30101</td><td style = \"text-align: right;\">0.231185</td><td style = \"text-align: right;\">0.995499</td><td style = \"text-align: right;\">-8.3921</td><td style = \"text-align: right;\">-3.13126</td><td style = \"text-align: right;\">1.49825</td><td style = \"text-align: right;\">1994.0</td><td style = \"text-align: right;\">2038.33</td><td style = \"text-align: right;\">2076.0</td><td style = \"text-align: right;\">368.58</td><td style = \"text-align: right;\">554.156</td><td style = \"text-align: right;\">374.327</td><td style = \"text-align: right;\">741.264</td><td style = \"text-align: right;\">-3.06991</td><td style = \"text-align: right;\">-2.53795</td><td style = \"text-align: right;\">-3.36394</td><td style = \"text-align: right;\">-3.49057</td></tr><tr><td class = \"rowNumber\" style = \"font-weight: bold; text-align: right;\">1068</td><td style = \"text-align: right;\">10</td><td style = \"text-align: right;\">5.0</td><td style = \"text-align: right;\">0.0</td><td style = \"text-align: right;\">5000</td><td style = \"text-align: right;\">10000</td><td style = \"text-align: right;\">1</td><td style = \"text-align: right;\">-7420629519107935415</td><td style = \"text-align: right;\">500</td><td style = \"text-align: right;\">10000</td><td style = \"text-align: right;\">0.0498735</td><td style = \"text-align: right;\">0.303274</td><td style = \"text-align: right;\">0.233805</td><td style = \"text-align: right;\">0.990435</td><td style = \"text-align: right;\">-8.32545</td><td style = \"text-align: right;\">-3.13622</td><td style = \"text-align: right;\">1.47335</td><td style = \"text-align: right;\">1997.0</td><td style = \"text-align: right;\">2042.46</td><td style = \"text-align: right;\">2083.0</td><td style = \"text-align: right;\">369.216</td><td style = \"text-align: right;\">555.099</td><td style = \"text-align: right;\">375.432</td><td style = \"text-align: right;\">742.717</td><td style = \"text-align: right;\">-3.08966</td><td style = \"text-align: right;\">-2.4838</td><td style = \"text-align: right;\">-3.36528</td><td style = \"text-align: right;\">-3.53428</td></tr></tbody></table></div>"
      ],
      "text/latex": [
       "\\begin{tabular}{r|ccccccccc}\n",
       "\t& R & U & L & N & K & replicate & seed & generation & \\\\\n",
       "\t\\hline\n",
       "\t& Int64 & Float64 & Float64 & Int64 & Int64 & Int64 & Int64 & Int64 & \\\\\n",
       "\t\\hline\n",
       "\t1 & 1 & 1.0 & 0.0 & 5000 & 10000 & 1 & -3244438032551929959 & 1 & $\\dots$ \\\\\n",
       "\t2 & 1 & 1.0 & 0.0 & 5000 & 10000 & 1 & -3244438032551929959 & 2 & $\\dots$ \\\\\n",
       "\t3 & 1 & 1.0 & 0.0 & 5000 & 10000 & 1 & -3244438032551929959 & 3 & $\\dots$ \\\\\n",
       "\t4 & 1 & 1.0 & 0.0 & 5000 & 10000 & 1 & -3244438032551929959 & 4 & $\\dots$ \\\\\n",
       "\t5 & 1 & 1.0 & 0.0 & 5000 & 10000 & 1 & -3244438032551929959 & 5 & $\\dots$ \\\\\n",
       "\t6 & 1 & 1.0 & 0.0 & 5000 & 10000 & 1 & -3244438032551929959 & 6 & $\\dots$ \\\\\n",
       "\t7 & 1 & 1.0 & 0.0 & 5000 & 10000 & 1 & -3244438032551929959 & 7 & $\\dots$ \\\\\n",
       "\t8 & 1 & 1.0 & 0.0 & 5000 & 10000 & 1 & -3244438032551929959 & 8 & $\\dots$ \\\\\n",
       "\t9 & 1 & 1.0 & 0.0 & 5000 & 10000 & 1 & -3244438032551929959 & 9 & $\\dots$ \\\\\n",
       "\t10 & 1 & 1.0 & 0.0 & 5000 & 10000 & 1 & -3244438032551929959 & 10 & $\\dots$ \\\\\n",
       "\t11 & 1 & 1.0 & 0.0 & 5000 & 10000 & 1 & -3244438032551929959 & 11 & $\\dots$ \\\\\n",
       "\t12 & 1 & 1.0 & 0.0 & 5000 & 10000 & 1 & -3244438032551929959 & 12 & $\\dots$ \\\\\n",
       "\t13 & 1 & 1.0 & 0.0 & 5000 & 10000 & 1 & -3244438032551929959 & 13 & $\\dots$ \\\\\n",
       "\t14 & 1 & 1.0 & 0.0 & 5000 & 10000 & 1 & -3244438032551929959 & 14 & $\\dots$ \\\\\n",
       "\t15 & 1 & 1.0 & 0.0 & 5000 & 10000 & 1 & -3244438032551929959 & 15 & $\\dots$ \\\\\n",
       "\t16 & 1 & 1.0 & 0.0 & 5000 & 10000 & 1 & -3244438032551929959 & 16 & $\\dots$ \\\\\n",
       "\t17 & 1 & 1.0 & 0.0 & 5000 & 10000 & 1 & -3244438032551929959 & 17 & $\\dots$ \\\\\n",
       "\t18 & 1 & 1.0 & 0.0 & 5000 & 10000 & 1 & -3244438032551929959 & 18 & $\\dots$ \\\\\n",
       "\t19 & 1 & 1.0 & 0.0 & 5000 & 10000 & 1 & -3244438032551929959 & 19 & $\\dots$ \\\\\n",
       "\t20 & 1 & 1.0 & 0.0 & 5000 & 10000 & 1 & -3244438032551929959 & 20 & $\\dots$ \\\\\n",
       "\t21 & 1 & 1.0 & 0.0 & 5000 & 10000 & 1 & -3244438032551929959 & 21 & $\\dots$ \\\\\n",
       "\t22 & 1 & 1.0 & 0.0 & 5000 & 10000 & 1 & -3244438032551929959 & 22 & $\\dots$ \\\\\n",
       "\t23 & 1 & 1.0 & 0.0 & 5000 & 10000 & 1 & -3244438032551929959 & 23 & $\\dots$ \\\\\n",
       "\t24 & 1 & 1.0 & 0.0 & 5000 & 10000 & 1 & -3244438032551929959 & 24 & $\\dots$ \\\\\n",
       "\t25 & 1 & 1.0 & 0.0 & 5000 & 10000 & 1 & -3244438032551929959 & 25 & $\\dots$ \\\\\n",
       "\t26 & 1 & 1.0 & 0.0 & 5000 & 10000 & 1 & -3244438032551929959 & 26 & $\\dots$ \\\\\n",
       "\t27 & 1 & 1.0 & 0.0 & 5000 & 10000 & 1 & -3244438032551929959 & 27 & $\\dots$ \\\\\n",
       "\t28 & 1 & 1.0 & 0.0 & 5000 & 10000 & 1 & -3244438032551929959 & 28 & $\\dots$ \\\\\n",
       "\t29 & 1 & 1.0 & 0.0 & 5000 & 10000 & 1 & -3244438032551929959 & 29 & $\\dots$ \\\\\n",
       "\t30 & 1 & 1.0 & 0.0 & 5000 & 10000 & 1 & -3244438032551929959 & 30 & $\\dots$ \\\\\n",
       "\t$\\dots$ & $\\dots$ & $\\dots$ & $\\dots$ & $\\dots$ & $\\dots$ & $\\dots$ & $\\dots$ & $\\dots$ &  \\\\\n",
       "\\end{tabular}\n"
      ],
      "text/plain": [
       "\u001b[1m1068×27 DataFrame\u001b[0m\n",
       "\u001b[1m  Row \u001b[0m│\u001b[1m R     \u001b[0m\u001b[1m U       \u001b[0m\u001b[1m L       \u001b[0m\u001b[1m N     \u001b[0m\u001b[1m K     \u001b[0m\u001b[1m replicate \u001b[0m\u001b[1m seed                \u001b[0m ⋯\n",
       "      │\u001b[90m Int64 \u001b[0m\u001b[90m Float64 \u001b[0m\u001b[90m Float64 \u001b[0m\u001b[90m Int64 \u001b[0m\u001b[90m Int64 \u001b[0m\u001b[90m Int64     \u001b[0m\u001b[90m Int64               \u001b[0m ⋯\n",
       "──────┼─────────────────────────────────────────────────────────────────────────\n",
       "    1 │     1      1.0      0.0   5000  10000          1  -3244438032551929959 ⋯\n",
       "    2 │     1      1.0      0.0   5000  10000          1  -3244438032551929959\n",
       "    3 │     1      1.0      0.0   5000  10000          1  -3244438032551929959\n",
       "    4 │     1      1.0      0.0   5000  10000          1  -3244438032551929959\n",
       "    5 │     1      1.0      0.0   5000  10000          1  -3244438032551929959 ⋯\n",
       "    6 │     1      1.0      0.0   5000  10000          1  -3244438032551929959\n",
       "    7 │     1      1.0      0.0   5000  10000          1  -3244438032551929959\n",
       "    8 │     1      1.0      0.0   5000  10000          1  -3244438032551929959\n",
       "    9 │     1      1.0      0.0   5000  10000          1  -3244438032551929959 ⋯\n",
       "   10 │     1      1.0      0.0   5000  10000          1  -3244438032551929959\n",
       "   11 │     1      1.0      0.0   5000  10000          1  -3244438032551929959\n",
       "  ⋮   │   ⋮       ⋮        ⋮       ⋮      ⋮        ⋮               ⋮           ⋱\n",
       " 1059 │    10      5.0      0.0   5000  10000          1  -7420629519107935415\n",
       " 1060 │    10      5.0      0.0   5000  10000          1  -7420629519107935415 ⋯\n",
       " 1061 │    10      5.0      0.0   5000  10000          1  -7420629519107935415\n",
       " 1062 │    10      5.0      0.0   5000  10000          1  -7420629519107935415\n",
       " 1063 │    10      5.0      0.0   5000  10000          1  -7420629519107935415\n",
       " 1064 │    10      5.0      0.0   5000  10000          1  -7420629519107935415 ⋯\n",
       " 1065 │    10      5.0      0.0   5000  10000          1  -7420629519107935415\n",
       " 1066 │    10      5.0      0.0   5000  10000          1  -7420629519107935415\n",
       " 1067 │    10      5.0      0.0   5000  10000          1  -7420629519107935415\n",
       " 1068 │    10      5.0      0.0   5000  10000          1  -7420629519107935415 ⋯\n",
       "\u001b[36m                                                20 columns and 1047 rows omitted\u001b[0m"
      ]
     },
     "execution_count": 34,
     "metadata": {},
     "output_type": "execute_result"
    }
   ],
   "source": [
    "#results = run_parameter_sweep_parallel(\"simulation_results\", ΦX174_epi_config; num_reps = 3)\n",
    "\n",
    "# Try a small test with 8 threads\n",
    "results = run_parameter_sweep_parallel(\"test_run\", ΦX174_epi_config; \n",
    "                                      num_reps = 1,\n",
    "                                      R_range = [1, 10],      # 2 values\n",
    "                                      U_range = [1.0, 5.0],   # 2 values  \n",
    "                                      L_range = [0.0])        # 1 value"
   ]
  },
  {
   "cell_type": "markdown",
   "id": "aea3b271-d2e3-4176-ad8c-5037f961e058",
   "metadata": {},
   "source": [
    "Now let's try a medium-sized test:"
   ]
  },
  {
   "cell_type": "code",
   "execution_count": 35,
   "id": "e577b7e5-e9f5-4dec-a9b4-381d6c4e9270",
   "metadata": {},
   "outputs": [],
   "source": [
    "#=\n",
    "results = run_parameter_sweep_parallel(\"medium_test\", ΦX174_epi_config; \n",
    "                                      num_reps = 2,\n",
    "                                      R_range = 0:5:10,      # 3 values  \n",
    "                                      U_range = 0:2.5:5.0,   # 3 values\n",
    "                                      L_range = 0.0:0.5:1.0) # 3 values\n",
    "=#"
   ]
  },
  {
   "cell_type": "markdown",
   "id": "9e80fb0f-9f0c-4ace-ae4d-58bf6e413b92",
   "metadata": {},
   "source": [
    "Here's the full sweep (not yet run):"
   ]
  },
  {
   "cell_type": "code",
   "execution_count": 36,
   "id": "d9fc0804-bfa0-478c-933e-3fc1c7709a62",
   "metadata": {},
   "outputs": [],
   "source": [
    "#=\n",
    "results = run_parameter_sweep_parallel(\"full_sweep\", ΦX174_epi_config; \n",
    "                                      num_reps = 5,\n",
    "                                      R_range = 0:2:10,\n",
    "                                      U_range = 0:0.5:5.0, \n",
    "                                      L_range = 0.0:0.2:1.0)\n",
    "=#"
   ]
  }
 ],
 "metadata": {
  "kernelspec": {
   "display_name": "Julia 8 threads 1.11.6",
   "language": "julia",
   "name": "julia-8-threads-1.11"
  },
  "language_info": {
   "file_extension": ".jl",
   "mimetype": "application/julia",
   "name": "julia",
   "version": "1.11.6"
  }
 },
 "nbformat": 4,
 "nbformat_minor": 5
}
