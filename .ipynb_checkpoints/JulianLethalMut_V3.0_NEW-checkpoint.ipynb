{
 "cells": [
  {
   "cell_type": "code",
   "execution_count": 79,
   "metadata": {},
   "outputs": [],
   "source": [
    "### A Pluto.jl notebook ###\n",
    "# v0.19.41\n",
    "\n",
    "using Markdown\n",
    "using InteractiveUtils"
   ]
  },
  {
   "cell_type": "code",
   "execution_count": 80,
   "metadata": {},
   "outputs": [],
   "source": [
    "using Random, Distributions, StatsBase, Parameters, DataFrames, Plots"
   ]
  },
  {
   "cell_type": "markdown",
   "metadata": {},
   "source": [
    "# Julian Lethal Mutagenesis Model"
   ]
  },
  {
   "cell_type": "markdown",
   "metadata": {},
   "source": [
    "## Initialization"
   ]
  },
  {
   "cell_type": "code",
   "execution_count": 81,
   "metadata": {},
   "outputs": [],
   "source": [
    "#Random.seed!(202020)"
   ]
  },
  {
   "cell_type": "markdown",
   "metadata": {},
   "source": [
    "## Conceptual Note\n",
    "In previous versions of this simulation I had conflated soft selection and carrying capacity.\n",
    "\n",
    "Soft selection is selection in which reproductive success is a function of relative fitness - something that may arise from competition for limited resources (e.g., hosts assuming their numbers are static/there is no predator-prey feedback). Hard selection implies no adjustment for the fitness of others and we are limited only by instrinsic features of the focal organism (captured in fitness). Now carrying capacity is an abstraction used in the logistic growth model to adjust per capita growth rates as population sizes approach it, but it seems to be tricky to instantiate this in discrete models (esp. with the added complication of semelparity). I've had a go at this but it isn't very realistic.\n",
    "\n",
    "In simulations in this document with synchronous generations carrying capacity is operative only in so far as individuals are culled at random when the population reaches or exceeds the carrying capacity (making it a concrete limit). This prevents us from having to compute very large population sizes and puts an artificial ceiling on population size (which may be relevant when considering drift). My confusion had arisen because fitness-based culling, or more precisely truncation selection, is a form of extreme soft selection. This is no longer implemented here because it led to double accounting of fitness, stripping it of meaning (see § dead darlings).\n",
    "\n",
    "I need to read a little bit more into how fitness is calculated in the studies for which the biophysical model provides a good simulacrum, in order to ensure an accurate match, but as written the synchronous simulations (with and without soft selection) show intriguing behaviour."
   ]
  },
  {
   "cell_type": "markdown",
   "metadata": {},
   "source": [
    "## Constants\n",
    "Let's start by defining the constants and parameters in the model:\n",
    "(Note the `@with_kw` macro is from Parameters.jl)\n",
    "\"\"\""
   ]
  },
  {
   "cell_type": "code",
   "execution_count": 82,
   "metadata": {},
   "outputs": [
    {
     "data": {
      "text/plain": [
       "2"
      ]
     },
     "execution_count": 82,
     "metadata": {},
     "output_type": "execute_result"
    }
   ],
   "source": [
    "#@with_kw struct Params\n",
    "\t# physical constants\n",
    "\tkt_boltzmann::Float64 = 0.001987204118 * (273.15+37)\n",
    "\tΔΔG::Normal{Float64} = Normal(1.0, 1.7)\n",
    "\t\n",
    "\t# fixed parameters\n",
    "\tG::Int = 10 # number_of_genes\n",
    "\tsim_length::Int = 500 # number of generations 500\n",
    "\tF::Float64 = -5.0 # initial_free_energy (of all proteins)\n",
    "\t\n",
    "\t# variable parameters\n",
    "\tU::Poisson{Float64} = Poisson(1.0) # mutation_rate - 4.5\n",
    "\tL::Float64 = 0.4 # lethal_fraction - 0.1\n",
    "\tN::Int = 200 # start_popsize\n",
    "\tK::Int = 200 # carrying_capacity\n",
    "\tR::Int = 1 # fecundity - 4\n",
    "    Rep::Int = 2 #Replicate No.\n",
    "\t#description::String # manual entry\n",
    "\t#replicate::Char # manual entry\n",
    "#end"
   ]
  },
  {
   "cell_type": "markdown",
   "metadata": {},
   "source": [
    "## Struct and Methods\n",
    "Next let's specify a Virus struct:"
   ]
  },
  {
   "cell_type": "code",
   "execution_count": 83,
   "metadata": {},
   "outputs": [],
   "source": [
    "mutable struct Virus\n",
    "\tμ_counts::Vector{Int64}\n",
    "\tΔG_list::Vector{Float64}\n",
    "\tfitness::Float64\n",
    "    zombie::Bool\n",
    "end"
   ]
  },
  {
   "cell_type": "markdown",
   "metadata": {},
   "source": [
    "And then a function to modify the fitness of a virus:"
   ]
  },
  {
   "cell_type": "code",
   "execution_count": 84,
   "metadata": {},
   "outputs": [
    {
     "data": {
      "text/plain": [
       "update_fitness! (generic function with 1 method)"
      ]
     },
     "execution_count": 84,
     "metadata": {},
     "output_type": "execute_result"
    }
   ],
   "source": [
    "function update_fitness!(virus::Virus) #, p::Params\n",
    "\t#@unpack kt_boltzmann = p\n",
    "\t# I could check if any ΔG value > 1\n",
    "    virus.fitness = prod([1 / (1 + ℯ^(ΔG/kt_boltzmann)) for ΔG in virus.ΔG_list])\n",
    "end"
   ]
  },
  {
   "cell_type": "markdown",
   "metadata": {},
   "source": [
    "Note that this is a little approximate:"
   ]
  },
  {
   "cell_type": "code",
   "execution_count": 85,
   "metadata": {},
   "outputs": [
    {
     "data": {
      "text/plain": [
       "0.997007308816621"
      ]
     },
     "execution_count": 85,
     "metadata": {},
     "output_type": "execute_result"
    }
   ],
   "source": [
    "#begin\n",
    "    #p = Params(description = \"preparatory\", replicate = '1')\n",
    "    start_fitness = prod([1 / (1 + ℯ^(ΔG/kt_boltzmann)) for ΔG in fill(F, G)])\n",
    "#end"
   ]
  },
  {
   "cell_type": "code",
   "execution_count": 86,
   "metadata": {
    "scrolled": true
   },
   "outputs": [
    {
     "data": {
      "text/plain": [
       "Virus([0, 0, 0, 0, 0, 0, 0, 0, 0, 0], [-5.0, -5.0, -5.0, -5.0, -5.0, -5.0, -5.0, -5.0, -5.0, -5.0], 0.997007308816621, false)"
      ]
     },
     "execution_count": 86,
     "metadata": {},
     "output_type": "execute_result"
    }
   ],
   "source": [
    "quentin = Virus(zeros(Int, G), fill(F, G), start_fitness, false)"
   ]
  },
  {
   "cell_type": "code",
   "execution_count": 87,
   "metadata": {},
   "outputs": [
    {
     "data": {
      "text/plain": [
       "0.997007308816621"
      ]
     },
     "execution_count": 87,
     "metadata": {},
     "output_type": "execute_result"
    }
   ],
   "source": [
    "update_fitness!(quentin)"
   ]
  },
  {
   "cell_type": "markdown",
   "metadata": {},
   "source": [
    "And now a function to mutate a virus:"
   ]
  },
  {
   "cell_type": "code",
   "execution_count": 88,
   "metadata": {},
   "outputs": [
    {
     "data": {
      "text/plain": [
       "0.997007308816621"
      ]
     },
     "execution_count": 88,
     "metadata": {},
     "output_type": "execute_result"
    }
   ],
   "source": [
    "quentin.fitness"
   ]
  },
  {
   "cell_type": "code",
   "execution_count": 89,
   "metadata": {},
   "outputs": [
    {
     "data": {
      "text/plain": [
       "false"
      ]
     },
     "execution_count": 89,
     "metadata": {},
     "output_type": "execute_result"
    }
   ],
   "source": [
    "quentin.zombie"
   ]
  },
  {
   "cell_type": "code",
   "execution_count": 90,
   "metadata": {},
   "outputs": [
    {
     "data": {
      "text/plain": [
       "mutate! (generic function with 1 method)"
      ]
     },
     "execution_count": 90,
     "metadata": {},
     "output_type": "execute_result"
    }
   ],
   "source": [
    "function mutate!(virus::Virus) #p::Params\n",
    "\t#@unpack G, L, U, ΔΔG = p\n",
    "\tnumber_of_mutations = only(rand(U, 1))\n",
    "\tΔΔG_values = rand(ΔΔG, number_of_mutations)\n",
    "\tmutgene_coord = rand((1:G), number_of_mutations)\n",
    "\tfor (index, gene_id) in enumerate(mutgene_coord)\n",
    "\t\tvirus.μ_counts[gene_id] += 1\n",
    "\t\tvirus.ΔG_list[gene_id] = virus.ΔG_list[gene_id] + ΔΔG_values[index]\n",
    "\t\tif only(rand(Float64, 1)) < L\n",
    "\t\t\tvirus.fitness = 0\n",
    "\t\tend\n",
    "\tend\n",
    "\t( virus.fitness > 0  ) && ( update_fitness!(virus) )\n",
    "    if virus.fitness <= 0 # make me efficient!\n",
    "        virus.zombie = true\n",
    "    end\n",
    "    return virus.fitness\n",
    "end"
   ]
  },
  {
   "cell_type": "code",
   "execution_count": 91,
   "metadata": {},
   "outputs": [
    {
     "data": {
      "text/plain": [
       "0.997007308816621"
      ]
     },
     "execution_count": 91,
     "metadata": {},
     "output_type": "execute_result"
    }
   ],
   "source": [
    "mutate!(quentin)"
   ]
  },
  {
   "cell_type": "code",
   "execution_count": 92,
   "metadata": {},
   "outputs": [
    {
     "data": {
      "text/plain": [
       "Virus([0, 0, 0, 0, 0, 0, 0, 0, 0, 0], [-5.0, -5.0, -5.0, -5.0, -5.0, -5.0, -5.0, -5.0, -5.0, -5.0], 0.997007308816621, false)"
      ]
     },
     "execution_count": 92,
     "metadata": {},
     "output_type": "execute_result"
    }
   ],
   "source": [
    "quentin"
   ]
  },
  {
   "cell_type": "markdown",
   "metadata": {},
   "source": [
    "And now a function to reproduce a virus:"
   ]
  },
  {
   "cell_type": "code",
   "execution_count": 93,
   "metadata": {},
   "outputs": [
    {
     "data": {
      "text/plain": [
       "reproduce (generic function with 1 method)"
      ]
     },
     "execution_count": 93,
     "metadata": {},
     "output_type": "execute_result"
    }
   ],
   "source": [
    "function reproduce(parent::Virus) #, p::Params\n",
    "    sprog = deepcopy(parent)\n",
    "    mutate!(sprog)\n",
    "\treturn sprog\n",
    "end"
   ]
  },
  {
   "cell_type": "code",
   "execution_count": 94,
   "metadata": {},
   "outputs": [
    {
     "data": {
      "text/plain": [
       "Virus([0, 0, 0, 0, 0, 0, 0, 0, 0, 0], [-5.0, -5.0, -5.0, -5.0, -5.0, -5.0, -5.0, -5.0, -5.0, -5.0], 0.997007308816621, false)"
      ]
     },
     "execution_count": 94,
     "metadata": {},
     "output_type": "execute_result"
    }
   ],
   "source": [
    "terrence = reproduce(quentin)"
   ]
  },
  {
   "cell_type": "markdown",
   "metadata": {},
   "source": [
    "## Helper Functions\n",
    "Now let's develop some helper functions.\n",
    "\n",
    "Initialize a population:"
   ]
  },
  {
   "cell_type": "code",
   "execution_count": 95,
   "metadata": {},
   "outputs": [
    {
     "data": {
      "text/plain": [
       "initialize_population (generic function with 1 method)"
      ]
     },
     "execution_count": 95,
     "metadata": {},
     "output_type": "execute_result"
    }
   ],
   "source": [
    "function initialize_population()\n",
    "\t#@unpack F, G, N = p\n",
    "\tinitial_population = [Virus(zeros(Int, G), fill(F, G), start_fitness, false) for _ in 1:N]\n",
    "    return initial_population\n",
    "end"
   ]
  },
  {
   "cell_type": "markdown",
   "metadata": {},
   "source": [
    "Derive relative fitnesses:"
   ]
  },
  {
   "cell_type": "code",
   "execution_count": 96,
   "metadata": {},
   "outputs": [
    {
     "data": {
      "text/plain": [
       "get_weights (generic function with 1 method)"
      ]
     },
     "execution_count": 96,
     "metadata": {},
     "output_type": "execute_result"
    }
   ],
   "source": [
    "function get_weights(populace)\n",
    "    weights = [v.fitness for v in populace]\n",
    "    return Weights(weights/sum(weights))\n",
    "end"
   ]
  },
  {
   "cell_type": "markdown",
   "metadata": {},
   "source": [
    "Snap to integer family size probabilistically:"
   ]
  },
  {
   "cell_type": "code",
   "execution_count": 97,
   "metadata": {},
   "outputs": [
    {
     "data": {
      "text/plain": [
       "probabilistic_round (generic function with 1 method)"
      ]
     },
     "execution_count": 97,
     "metadata": {},
     "output_type": "execute_result"
    }
   ],
   "source": [
    "function probabilistic_round(number)\n",
    "    frac = abs(number - floor(number))\n",
    "\t#frac = number % floor(number)\n",
    "    if only(rand(Float64, 1)) < frac\n",
    "        return ceil(Int, number)\n",
    "\tend\n",
    "    return floor(Int, number)\n",
    "end"
   ]
  },
  {
   "cell_type": "markdown",
   "metadata": {},
   "source": [
    "Initialize a report DataFrame with named columns but no data:"
   ]
  },
  {
   "cell_type": "code",
   "execution_count": 98,
   "metadata": {},
   "outputs": [
    {
     "data": {
      "text/plain": [
       "initialize_report (generic function with 1 method)"
      ]
     },
     "execution_count": 98,
     "metadata": {},
     "output_type": "execute_result"
    }
   ],
   "source": [
    "function initialize_report()\n",
    "\treport = DataFrame(psiz = Int[], q1fit = Float64[], meanfit = Float64[],\n",
    "        q2fit = Float64[], maxfit = Float64[], minfree = Float64[], \n",
    "\t\tmeanfree = Float64[], maxfree = Float64[], minmut = Float64[], \n",
    "\t\tmeanmut = Float64[], maxmut = Float64[])\n",
    "\treturn report\n",
    "end"
   ]
  },
  {
   "cell_type": "markdown",
   "metadata": {},
   "source": [
    "Update report with a row representing data from input population instance (here called populace):"
   ]
  },
  {
   "cell_type": "code",
   "execution_count": 99,
   "metadata": {},
   "outputs": [
    {
     "data": {
      "text/plain": [
       "report_update! (generic function with 1 method)"
      ]
     },
     "execution_count": 99,
     "metadata": {},
     "output_type": "execute_result"
    }
   ],
   "source": [
    "function report_update!(populace, report)\n",
    "    push!(report, \n",
    "\t\t[length(populace), #psiz\n",
    "\t\tquantile([v.fitness for v in populace], 0.25), #q1fit\n",
    "\t\tmean([v.fitness for v in populace]), #meanfit\n",
    "\t    median([v.fitness for v in populace]), #q2fit\n",
    "\t    maximum([v.fitness for v in populace]), #maxfit\n",
    "\t    mean([minimum(v.ΔG_list) for v in populace]), #minfree\n",
    "\t    mean([mean(v.ΔG_list) for v in populace]), #meanfree\n",
    "\t    mean([maximum(v.ΔG_list) for v in populace]), #maxfree\n",
    "\t    minimum([sum(v.μ_counts) for v in populace]), #minmut\n",
    "\t    mean([sum(v.μ_counts) for v in populace]), #meanmut\n",
    "\t    maximum([sum(v.μ_counts) for v in populace]), #maxmut\n",
    "\t\t])\n",
    "end"
   ]
  },
  {
   "cell_type": "markdown",
   "metadata": {},
   "source": [
    "Plot a simulation based on the report data and description field:"
   ]
  },
  {
   "cell_type": "code",
   "execution_count": 100,
   "metadata": {},
   "outputs": [
    {
     "data": {
      "text/plain": [
       "plot_simulation (generic function with 1 method)"
      ]
     },
     "execution_count": 100,
     "metadata": {},
     "output_type": "execute_result"
    }
   ],
   "source": [
    "function plot_simulation(report)\n",
    "\tabscissa = range(1, size(report, 1))\n",
    "\tp1 = plot(abscissa, report.psiz, ylims=(0,maximum(report.psiz)),\n",
    "\t\tlabel=\"pop size\", linewidth=3,\n",
    "\t\ttitle=\"A\")\n",
    "\tp2 = plot(abscissa, [report.q1fit, report.meanfit, report.q2fit, report.maxfit], \n",
    "\t\tlabel=[\"Q1 fitness\" \"mean fitness\" \"median fitness\" \"max fitness\"], linewidth=3, title=\"B\")\n",
    "\tp3 = plot(abscissa, [report.minfree, report.meanfree, report.maxfree], \n",
    "\t\tlabel=[\"min ΔG\" \"mean ΔG\" \"max ΔG\"], \n",
    "\t\tlinewidth=3, title=\"C\")\n",
    "\tp4 = plot(abscissa, [report.minmut, report.meanmut, report.maxmut],\n",
    "\t\tlabel=[\"min # μ count\" \"mean # μ\" \"max # μ\"], \n",
    "\t\tlinewidth=3, title=\"D\")\n",
    "\tplot(p1, p2, p3, p4, titleloc = :left, titlefont = font(20), layout=(2,2), size=(1000, 700))\n",
    "end"
   ]
  },
  {
   "cell_type": "markdown",
   "metadata": {},
   "source": [
    "## Simulation with Synchronized Generations\n",
    "Let's construct a simulation in which generations are synchronized and fecundity is a function of R (interpreted as baseline fecundity) and fitness of the focal viral parent. Random culling is carried when the population reaches carrying capacity."
   ]
  },
  {
   "cell_type": "code",
   "execution_count": 101,
   "metadata": {},
   "outputs": [
    {
     "data": {
      "text/plain": [
       "synchronized_generation (generic function with 1 method)"
      ]
     },
     "execution_count": 101,
     "metadata": {},
     "output_type": "execute_result"
    }
   ],
   "source": [
    "function synchronized_generation(populace)\n",
    "\t#@unpack R = p\n",
    "\tnext_generation = []\n",
    "\tfor parent in populace\n",
    "\t\tfor r in 1:probabilistic_round(R * parent.fitness)\n",
    "\t\t\tchild = reproduce(parent)\n",
    "\t\t\t( child.fitness > 0  ) && ( push!(next_generation, child) ) # could be a zombie test\n",
    "\t\tend\n",
    "\tend\n",
    "\treturn next_generation\n",
    "end"
   ]
  },
  {
   "cell_type": "code",
   "execution_count": 102,
   "metadata": {},
   "outputs": [
    {
     "data": {
      "text/plain": [
       "synchronized_simulation (generic function with 1 method)"
      ]
     },
     "execution_count": 102,
     "metadata": {},
     "output_type": "execute_result"
    }
   ],
   "source": [
    "function synchronized_simulation()\n",
    "\t#m = Params(description = \"synchronized\", replicate = '1')\n",
    "\t#@unpack K, N, sim_length = m\n",
    "\tpopulation = initialize_population()\n",
    "\tpopulation_size = N\n",
    "\treport = initialize_report()\n",
    "\tSIM_DURATION = sim_length\n",
    "\twhile SIM_DURATION > 0\n",
    "\t\tSIM_DURATION -= 1\n",
    "\t\tif SIM_DURATION % 20 == 0 # can change reporting frequency here\n",
    "\t\t\tprintln(\"generation:\", sim_length - SIM_DURATION)\n",
    "\t\tend\n",
    "\t\treport_update!(population, report)\n",
    "\t\tpopulation = synchronized_generation(population)\n",
    "\t\tpopulation_size = length(population)\n",
    "\t\t\n",
    "\t\tif population_size > K\n",
    "\t        population = sample(population, K, replace=false)\n",
    "\t\t    # why calculate when you can set?\n",
    "\t        population_size = K\n",
    "\t\n",
    "\t\telseif population_size == 0\n",
    "\t        # they're all dead\n",
    "\t        SIM_DURATION = 0\n",
    "\t\tend\n",
    "\tend\n",
    "\treturn report\n",
    "end"
   ]
  },
  {
   "cell_type": "code",
   "execution_count": 103,
   "metadata": {},
   "outputs": [
    {
     "data": {
      "text/plain": [
       "\"L0.4_N200_Rep2.png\""
      ]
     },
     "execution_count": 103,
     "metadata": {},
     "output_type": "execute_result"
    }
   ],
   "source": [
    "#begin\n",
    "\n",
    "cd(\"/Users/jade/Desktop/Jade/Lethal Mutagenesis/Simulation/10Genes/R1/K200/Rep2/U1\")\n",
    "\n",
    "    variable1 = \"L$(L::Float64)\"\n",
    "    variable2 = \"N$(N::Int)\"\n",
    "    replicate = \"Rep$(Rep::Int)\"\n",
    "\n",
    "    using CSV, Tables, DataFrames\n",
    "\tsynchronized_report = synchronized_simulation()\n",
    "\tplot_simulation(synchronized_report)\n",
    "    CSV.write(\"$(variable1)_$(variable2)_$(replicate).csv\", synchronized_report)\n",
    "\n",
    "\tusing Pkg\n",
    "\t#function save_figure(fig, name_of_variable)\n",
    "\t\tfilename = (\"$(variable1)_$(variable2)_$(replicate).png\")\n",
    "\t\tpng(filename)\n",
    "\t\n",
    "#end"
   ]
  },
  {
   "cell_type": "code",
   "execution_count": null,
   "metadata": {},
   "outputs": [],
   "source": []
  },
  {
   "cell_type": "code",
   "execution_count": 104,
   "metadata": {},
   "outputs": [
    {
     "data": {
      "text/html": [
       "<div><div style = \"float: left;\"><span>13×11 DataFrame</span></div><div style = \"clear: both;\"></div></div><div class = \"data-frame\" style = \"overflow-x: scroll;\"><table class = \"data-frame\" style = \"margin-bottom: 6px;\"><thead><tr class = \"header\"><th class = \"rowNumber\" style = \"font-weight: bold; text-align: right;\">Row</th><th style = \"text-align: left;\">psiz</th><th style = \"text-align: left;\">q1fit</th><th style = \"text-align: left;\">meanfit</th><th style = \"text-align: left;\">q2fit</th><th style = \"text-align: left;\">maxfit</th><th style = \"text-align: left;\">minfree</th><th style = \"text-align: left;\">meanfree</th><th style = \"text-align: left;\">maxfree</th><th style = \"text-align: left;\">minmut</th><th style = \"text-align: left;\">meanmut</th><th style = \"text-align: left;\">maxmut</th></tr><tr class = \"subheader headerLastRow\"><th class = \"rowNumber\" style = \"font-weight: bold; text-align: right;\"></th><th title = \"Int64\" style = \"text-align: left;\">Int64</th><th title = \"Float64\" style = \"text-align: left;\">Float64</th><th title = \"Float64\" style = \"text-align: left;\">Float64</th><th title = \"Float64\" style = \"text-align: left;\">Float64</th><th title = \"Float64\" style = \"text-align: left;\">Float64</th><th title = \"Float64\" style = \"text-align: left;\">Float64</th><th title = \"Float64\" style = \"text-align: left;\">Float64</th><th title = \"Float64\" style = \"text-align: left;\">Float64</th><th title = \"Float64\" style = \"text-align: left;\">Float64</th><th title = \"Float64\" style = \"text-align: left;\">Float64</th><th title = \"Float64\" style = \"text-align: left;\">Float64</th></tr></thead><tbody><tr><td class = \"rowNumber\" style = \"font-weight: bold; text-align: right;\">1</td><td style = \"text-align: right;\">200</td><td style = \"text-align: right;\">0.997007</td><td style = \"text-align: right;\">0.997007</td><td style = \"text-align: right;\">0.997007</td><td style = \"text-align: right;\">0.997007</td><td style = \"text-align: right;\">-5.0</td><td style = \"text-align: right;\">-5.0</td><td style = \"text-align: right;\">-5.0</td><td style = \"text-align: right;\">0.0</td><td style = \"text-align: right;\">0.0</td><td style = \"text-align: right;\">0.0</td></tr><tr><td class = \"rowNumber\" style = \"font-weight: bold; text-align: right;\">2</td><td style = \"text-align: right;\">133</td><td style = \"text-align: right;\">0.994368</td><td style = \"text-align: right;\">0.979175</td><td style = \"text-align: right;\">0.997007</td><td style = \"text-align: right;\">0.997422</td><td style = \"text-align: right;\">-5.14954</td><td style = \"text-align: right;\">-4.93322</td><td style = \"text-align: right;\">-4.22834</td><td style = \"text-align: right;\">0.0</td><td style = \"text-align: right;\">0.601504</td><td style = \"text-align: right;\">3.0</td></tr><tr><td class = \"rowNumber\" style = \"font-weight: bold; text-align: right;\">3</td><td style = \"text-align: right;\">88</td><td style = \"text-align: right;\">0.983392</td><td style = \"text-align: right;\">0.946188</td><td style = \"text-align: right;\">0.996126</td><td style = \"text-align: right;\">0.997279</td><td style = \"text-align: right;\">-5.2866</td><td style = \"text-align: right;\">-4.86425</td><td style = \"text-align: right;\">-3.65769</td><td style = \"text-align: right;\">0.0</td><td style = \"text-align: right;\">1.15909</td><td style = \"text-align: right;\">5.0</td></tr><tr><td class = \"rowNumber\" style = \"font-weight: bold; text-align: right;\">4</td><td style = \"text-align: right;\">57</td><td style = \"text-align: right;\">0.981594</td><td style = \"text-align: right;\">0.969989</td><td style = \"text-align: right;\">0.993481</td><td style = \"text-align: right;\">0.997279</td><td style = \"text-align: right;\">-5.49438</td><td style = \"text-align: right;\">-4.84189</td><td style = \"text-align: right;\">-3.48051</td><td style = \"text-align: right;\">0.0</td><td style = \"text-align: right;\">1.66667</td><td style = \"text-align: right;\">5.0</td></tr><tr><td class = \"rowNumber\" style = \"font-weight: bold; text-align: right;\">5</td><td style = \"text-align: right;\">35</td><td style = \"text-align: right;\">0.953022</td><td style = \"text-align: right;\">0.962649</td><td style = \"text-align: right;\">0.985597</td><td style = \"text-align: right;\">0.997542</td><td style = \"text-align: right;\">-5.68221</td><td style = \"text-align: right;\">-4.81102</td><td style = \"text-align: right;\">-2.89238</td><td style = \"text-align: right;\">0.0</td><td style = \"text-align: right;\">2.28571</td><td style = \"text-align: right;\">5.0</td></tr><tr><td class = \"rowNumber\" style = \"font-weight: bold; text-align: right;\">6</td><td style = \"text-align: right;\">21</td><td style = \"text-align: right;\">0.918704</td><td style = \"text-align: right;\">0.914673</td><td style = \"text-align: right;\">0.962245</td><td style = \"text-align: right;\">0.997542</td><td style = \"text-align: right;\">-5.93659</td><td style = \"text-align: right;\">-4.75099</td><td style = \"text-align: right;\">-2.48163</td><td style = \"text-align: right;\">1.0</td><td style = \"text-align: right;\">3.04762</td><td style = \"text-align: right;\">6.0</td></tr><tr><td class = \"rowNumber\" style = \"font-weight: bold; text-align: right;\">7</td><td style = \"text-align: right;\">15</td><td style = \"text-align: right;\">0.944032</td><td style = \"text-align: right;\">0.936217</td><td style = \"text-align: right;\">0.961779</td><td style = \"text-align: right;\">0.996122</td><td style = \"text-align: right;\">-6.11681</td><td style = \"text-align: right;\">-4.7227</td><td style = \"text-align: right;\">-2.23644</td><td style = \"text-align: right;\">1.0</td><td style = \"text-align: right;\">3.86667</td><td style = \"text-align: right;\">8.0</td></tr><tr><td class = \"rowNumber\" style = \"font-weight: bold; text-align: right;\">8</td><td style = \"text-align: right;\">9</td><td style = \"text-align: right;\">0.953496</td><td style = \"text-align: right;\">0.935235</td><td style = \"text-align: right;\">0.963779</td><td style = \"text-align: right;\">0.995085</td><td style = \"text-align: right;\">-6.26051</td><td style = \"text-align: right;\">-4.6278</td><td style = \"text-align: right;\">-2.47493</td><td style = \"text-align: right;\">2.0</td><td style = \"text-align: right;\">5.11111</td><td style = \"text-align: right;\">9.0</td></tr><tr><td class = \"rowNumber\" style = \"font-weight: bold; text-align: right;\">9</td><td style = \"text-align: right;\">6</td><td style = \"text-align: right;\">0.94508</td><td style = \"text-align: right;\">0.917831</td><td style = \"text-align: right;\">0.969537</td><td style = \"text-align: right;\">0.995085</td><td style = \"text-align: right;\">-6.4517</td><td style = \"text-align: right;\">-4.59118</td><td style = \"text-align: right;\">-2.53033</td><td style = \"text-align: right;\">5.0</td><td style = \"text-align: right;\">6.83333</td><td style = \"text-align: right;\">9.0</td></tr><tr><td class = \"rowNumber\" style = \"font-weight: bold; text-align: right;\">10</td><td style = \"text-align: right;\">4</td><td style = \"text-align: right;\">0.971901</td><td style = \"text-align: right;\">0.976415</td><td style = \"text-align: right;\">0.986439</td><td style = \"text-align: right;\">0.995085</td><td style = \"text-align: right;\">-7.17756</td><td style = \"text-align: right;\">-4.84483</td><td style = \"text-align: right;\">-3.11083</td><td style = \"text-align: right;\">5.0</td><td style = \"text-align: right;\">7.25</td><td style = \"text-align: right;\">9.0</td></tr><tr><td class = \"rowNumber\" style = \"font-weight: bold; text-align: right;\">11</td><td style = \"text-align: right;\">2</td><td style = \"text-align: right;\">0.990481</td><td style = \"text-align: right;\">0.991388</td><td style = \"text-align: right;\">0.991388</td><td style = \"text-align: right;\">0.9932</td><td style = \"text-align: right;\">-7.40936</td><td style = \"text-align: right;\">-5.0769</td><td style = \"text-align: right;\">-3.36165</td><td style = \"text-align: right;\">6.0</td><td style = \"text-align: right;\">6.5</td><td style = \"text-align: right;\">7.0</td></tr><tr><td class = \"rowNumber\" style = \"font-weight: bold; text-align: right;\">12</td><td style = \"text-align: right;\">2</td><td style = \"text-align: right;\">0.990481</td><td style = \"text-align: right;\">0.991388</td><td style = \"text-align: right;\">0.991388</td><td style = \"text-align: right;\">0.9932</td><td style = \"text-align: right;\">-7.40936</td><td style = \"text-align: right;\">-5.0769</td><td style = \"text-align: right;\">-3.36165</td><td style = \"text-align: right;\">6.0</td><td style = \"text-align: right;\">6.5</td><td style = \"text-align: right;\">7.0</td></tr><tr><td class = \"rowNumber\" style = \"font-weight: bold; text-align: right;\">13</td><td style = \"text-align: right;\">1</td><td style = \"text-align: right;\">0.992722</td><td style = \"text-align: right;\">0.992722</td><td style = \"text-align: right;\">0.992722</td><td style = \"text-align: right;\">0.992722</td><td style = \"text-align: right;\">-7.5934</td><td style = \"text-align: right;\">-4.84879</td><td style = \"text-align: right;\">-3.77211</td><td style = \"text-align: right;\">7.0</td><td style = \"text-align: right;\">7.0</td><td style = \"text-align: right;\">7.0</td></tr></tbody></table></div>"
      ],
      "text/latex": [
       "\\begin{tabular}{r|cccccccccc}\n",
       "\t& psiz & q1fit & meanfit & q2fit & maxfit & minfree & meanfree & maxfree & minmut & \\\\\n",
       "\t\\hline\n",
       "\t& Int64 & Float64 & Float64 & Float64 & Float64 & Float64 & Float64 & Float64 & Float64 & \\\\\n",
       "\t\\hline\n",
       "\t1 & 200 & 0.997007 & 0.997007 & 0.997007 & 0.997007 & -5.0 & -5.0 & -5.0 & 0.0 & $\\dots$ \\\\\n",
       "\t2 & 133 & 0.994368 & 0.979175 & 0.997007 & 0.997422 & -5.14954 & -4.93322 & -4.22834 & 0.0 & $\\dots$ \\\\\n",
       "\t3 & 88 & 0.983392 & 0.946188 & 0.996126 & 0.997279 & -5.2866 & -4.86425 & -3.65769 & 0.0 & $\\dots$ \\\\\n",
       "\t4 & 57 & 0.981594 & 0.969989 & 0.993481 & 0.997279 & -5.49438 & -4.84189 & -3.48051 & 0.0 & $\\dots$ \\\\\n",
       "\t5 & 35 & 0.953022 & 0.962649 & 0.985597 & 0.997542 & -5.68221 & -4.81102 & -2.89238 & 0.0 & $\\dots$ \\\\\n",
       "\t6 & 21 & 0.918704 & 0.914673 & 0.962245 & 0.997542 & -5.93659 & -4.75099 & -2.48163 & 1.0 & $\\dots$ \\\\\n",
       "\t7 & 15 & 0.944032 & 0.936217 & 0.961779 & 0.996122 & -6.11681 & -4.7227 & -2.23644 & 1.0 & $\\dots$ \\\\\n",
       "\t8 & 9 & 0.953496 & 0.935235 & 0.963779 & 0.995085 & -6.26051 & -4.6278 & -2.47493 & 2.0 & $\\dots$ \\\\\n",
       "\t9 & 6 & 0.94508 & 0.917831 & 0.969537 & 0.995085 & -6.4517 & -4.59118 & -2.53033 & 5.0 & $\\dots$ \\\\\n",
       "\t10 & 4 & 0.971901 & 0.976415 & 0.986439 & 0.995085 & -7.17756 & -4.84483 & -3.11083 & 5.0 & $\\dots$ \\\\\n",
       "\t11 & 2 & 0.990481 & 0.991388 & 0.991388 & 0.9932 & -7.40936 & -5.0769 & -3.36165 & 6.0 & $\\dots$ \\\\\n",
       "\t12 & 2 & 0.990481 & 0.991388 & 0.991388 & 0.9932 & -7.40936 & -5.0769 & -3.36165 & 6.0 & $\\dots$ \\\\\n",
       "\t13 & 1 & 0.992722 & 0.992722 & 0.992722 & 0.992722 & -7.5934 & -4.84879 & -3.77211 & 7.0 & $\\dots$ \\\\\n",
       "\\end{tabular}\n"
      ],
      "text/plain": [
       "\u001b[1m13×11 DataFrame\u001b[0m\n",
       "\u001b[1m Row \u001b[0m│\u001b[1m psiz  \u001b[0m\u001b[1m q1fit    \u001b[0m\u001b[1m meanfit  \u001b[0m\u001b[1m q2fit    \u001b[0m\u001b[1m maxfit   \u001b[0m\u001b[1m minfree  \u001b[0m\u001b[1m meanfree \u001b[0m\u001b[1m maxf\u001b[0m ⋯\n",
       "     │\u001b[90m Int64 \u001b[0m\u001b[90m Float64  \u001b[0m\u001b[90m Float64  \u001b[0m\u001b[90m Float64  \u001b[0m\u001b[90m Float64  \u001b[0m\u001b[90m Float64  \u001b[0m\u001b[90m Float64  \u001b[0m\u001b[90m Floa\u001b[0m ⋯\n",
       "─────┼──────────────────────────────────────────────────────────────────────────\n",
       "   1 │   200  0.997007  0.997007  0.997007  0.997007  -5.0      -5.0      -5.0 ⋯\n",
       "   2 │   133  0.994368  0.979175  0.997007  0.997422  -5.14954  -4.93322  -4.2\n",
       "   3 │    88  0.983392  0.946188  0.996126  0.997279  -5.2866   -4.86425  -3.6\n",
       "   4 │    57  0.981594  0.969989  0.993481  0.997279  -5.49438  -4.84189  -3.4\n",
       "   5 │    35  0.953022  0.962649  0.985597  0.997542  -5.68221  -4.81102  -2.8 ⋯\n",
       "   6 │    21  0.918704  0.914673  0.962245  0.997542  -5.93659  -4.75099  -2.4\n",
       "   7 │    15  0.944032  0.936217  0.961779  0.996122  -6.11681  -4.7227   -2.2\n",
       "   8 │     9  0.953496  0.935235  0.963779  0.995085  -6.26051  -4.6278   -2.4\n",
       "   9 │     6  0.94508   0.917831  0.969537  0.995085  -6.4517   -4.59118  -2.5 ⋯\n",
       "  10 │     4  0.971901  0.976415  0.986439  0.995085  -7.17756  -4.84483  -3.1\n",
       "  11 │     2  0.990481  0.991388  0.991388  0.9932    -7.40936  -5.0769   -3.3\n",
       "  12 │     2  0.990481  0.991388  0.991388  0.9932    -7.40936  -5.0769   -3.3\n",
       "  13 │     1  0.992722  0.992722  0.992722  0.992722  -7.5934   -4.84879  -3.7 ⋯\n",
       "\u001b[36m                                                               4 columns omitted\u001b[0m"
      ]
     },
     "execution_count": 104,
     "metadata": {},
     "output_type": "execute_result"
    }
   ],
   "source": [
    "synchronized_report"
   ]
  },
  {
   "cell_type": "code",
   "execution_count": null,
   "metadata": {},
   "outputs": [],
   "source": []
  },
  {
   "cell_type": "markdown",
   "metadata": {},
   "source": [
    "## Asynchronous (Time-based) Simulation\n",
    "This simulation picks indviduals as parents proportional to their fitness, while fecundity is always = R. When the population exceed carrying capacity (K) only K parents are picked, otherwise the number of parents is equal to the population size at the beginning of each model step/\"generation\"."
   ]
  },
  {
   "cell_type": "markdown",
   "metadata": {},
   "source": [
    "This one takes 28s on my M2 Pro, 32Gb RAM system. We have a lot of growth and numbers expand because viruses sit around not being picked as parents and not inactivating either. It is possibly worth adding an inactivation process in order to implement a form of culling. This would constitute quite a natural system since viruses do fail to find hosts. However, this does alter the meaning of fitness at the margin since a virus can always be picked with low probability by the loop in `asynchronous_modelstep!()`, but inactivation will put paid to this."
   ]
  },
  {
   "cell_type": "markdown",
   "metadata": {},
   "source": [
    "## Synchronized Simulation with Soft Selection\n",
    "This simulation is like the synchronized one except that realized per-capita fecundity is the product of baseline fecundity and relative fitness. Random culling is carried when the population reaches carrying capacity."
   ]
  },
  {
   "cell_type": "markdown",
   "metadata": {},
   "source": [
    "## Asynchronous Simulation with Pseudo-Logistic Growth\n",
    "This simulation is like the asynchronous one except that the baseline fecundity is scaled based on closeness to carrying capacity (as in logistic model but note this is discrete)."
   ]
  },
  {
   "cell_type": "markdown",
   "metadata": {},
   "source": [
    "## Summary\n",
    "Really the problem is that fitness has components and our model can include generation time (less is fitter) and fecundity (more is fitter), but an implementation with both risks double counting fitness thereby stripping it of meaning. If fitness is interpreted as lineage growth rate, perhaps we could devise such a combined model, but in order to do this we would need to explictly model latent period and burst size in order to account for their natural limits. We would also need to decide whether mutations can be considered to affect each proportionally. This seems quixotic from a protein model, but we might find data that speaks to mutational effects.\n",
    "\n",
    "Perhaps we can instead see some limits if we implement an asynchronous model with inactivation (although see my note below the first asynchronous model) and contrast this with a synchronous model with a large carrying capacity (so that this isn't too relevant).\n",
    "\n",
    "Other forms of realism would include predator-prey feedback."
   ]
  },
  {
   "cell_type": "markdown",
   "metadata": {},
   "source": [
    "##### Dead Darlings\n",
    "We used to include the idea of trimming with the following code when the N>K: `population = wsample(population, get_weights(population), K, replace=false)` but we now realise that this double counts fitness."
   ]
  }
 ],
 "metadata": {
  "kernelspec": {
   "display_name": "Julia 1.10.4",
   "language": "julia",
   "name": "julia-1.10"
  },
  "language_info": {
   "file_extension": ".jl",
   "mimetype": "application/julia",
   "name": "julia",
   "version": "1.10.5"
  }
 },
 "nbformat": 4,
 "nbformat_minor": 4
}
